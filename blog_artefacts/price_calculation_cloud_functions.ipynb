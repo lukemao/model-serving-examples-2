{
 "cells": [
  {
   "cell_type": "markdown",
   "id": "3f859d88-fae0-4cff-a7f4-9eeaac873780",
   "metadata": {},
   "source": [
    "Get calculate estimate prices of Cloud Functions usage according to https://cloud.google.com/functions/pricing"
   ]
  },
  {
   "cell_type": "code",
   "execution_count": 1,
   "id": "728d7d17-92dc-4bc8-a5fd-c1b37ba2a44c",
   "metadata": {},
   "outputs": [],
   "source": [
    "def calculate_cf_price(invocations, memory, cpu, execution_time,networking):\n",
    "    # invocations: number/month\n",
    "    # memory: GB\n",
    "    # cpu; GHz\n",
    "    # execution_time: ms\n",
    "    execution_time_in_seconds = execution_time/1000\n",
    "    compute_time_gb_s = execution_time_in_seconds* memory *invocations\n",
    "    compute_time_ghz_s = execution_time_in_seconds * cpu *invocations\n",
    "    unit_price = {'invocations':0.0000004,\n",
    "                  'gb_s':0.0000025,\n",
    "                  'ghz_s':0.0000100,\n",
    "                  'networking': 0.12}\n",
    "    free_tier = {'invocations':2000000,\n",
    "                  'gb_s':400000,\n",
    "                  'ghz_s':200000,\n",
    "                  'networking': 5}\n",
    "    \n",
    "    price = max(0, (invocations-free_tier['invocations']))*unit_price['invocations'] + \\\n",
    "            max(0, (compute_time_gb_s-free_tier['gb_s']))*unit_price['gb_s'] + \\\n",
    "            max(0, (compute_time_ghz_s-free_tier['ghz_s']))*unit_price['ghz_s'] + \\\n",
    "            max(0, (networking-free_tier['networking']))*unit_price['networking']\n",
    "    output_string = 'The price per month for {} invocations/month with {}GB memory, {}ms execution time and {}GB outbound data is ${}'.format(str(invocations), \n",
    "                                                                                                                                              str(memory), \n",
    "                                                                                                                                              str(execution_time),\n",
    "                                                                                                                                              str(networking),\n",
    "                                                                                                                                              str(price),\n",
    "                                                                                                                                              )\n",
    "    print(output_string)"
   ]
  },
  {
   "cell_type": "code",
   "execution_count": 3,
   "id": "34676e46-db8f-4bc1-9c62-1954e191e555",
   "metadata": {},
   "outputs": [
    {
     "name": "stdout",
     "output_type": "stream",
     "text": [
      "The price per month for 30000 invocations/month with 4GB memory, 18000ms execution time and 0GB outbound data is $28.32\n",
      "The price per month for 60000 invocations/month with 4GB memory, 18000ms execution time and 0GB outbound data is $59.64\n",
      "The price per month for 90000 invocations/month with 4GB memory, 18000ms execution time and 0GB outbound data is $90.96\n",
      "The price per month for 120000 invocations/month with 4GB memory, 18000ms execution time and 0GB outbound data is $122.28\n",
      "The price per month for 150000 invocations/month with 4GB memory, 18000ms execution time and 0GB outbound data is $153.6\n",
      "The price per month for 500000 invocations/month with 4GB memory, 18000ms execution time and 0GB outbound data is $519.0\n",
      "The price per month for 1000000 invocations/month with 4GB memory, 18000ms execution time and 0GB outbound data is $1041.0\n"
     ]
    }
   ],
   "source": [
    "for invocation in [30000, 60000, 90000, 120000,150000, 500000, 1000000]:\n",
    "    calculate_cf_price(invocation, 4, 4.8, 18000,0)"
   ]
  },
  {
   "cell_type": "code",
   "execution_count": null,
   "id": "2fe38488-9a58-4119-bbf9-262c055ff836",
   "metadata": {},
   "outputs": [],
   "source": []
  }
 ],
 "metadata": {
  "kernelspec": {
   "display_name": "Python 3",
   "language": "python",
   "name": "python3"
  },
  "language_info": {
   "codemirror_mode": {
    "name": "ipython",
    "version": 3
   },
   "file_extension": ".py",
   "mimetype": "text/x-python",
   "name": "python",
   "nbconvert_exporter": "python",
   "pygments_lexer": "ipython3",
   "version": "3.8.5"
  }
 },
 "nbformat": 4,
 "nbformat_minor": 5
}
