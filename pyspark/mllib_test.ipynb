{
 "cells": [
  {
   "cell_type": "markdown",
   "metadata": {},
   "source": [
    "# MLLib trial\n",
    "\n",
    "In this notebook will trial MLLib using a public dataset from Big Query.\n",
    "Have taken a dataset covering taxi journeys in New York. Have used Big Query to perform some basic cleaning and feature engineering so the data is a fine state to model.\n",
    "In this notebook will model the data using the spark library mllib.\n",
    "\n",
    "Full dataset is 1B rows but for this trial will use. sample dataset of 1000 rows.\n"
   ]
  },
  {
   "cell_type": "markdown",
   "metadata": {},
   "source": [
    "# Load libraries and create spark session"
   ]
  },
  {
   "cell_type": "code",
   "execution_count": 1,
   "metadata": {},
   "outputs": [],
   "source": [
    "from pyspark.sql import SparkSession\n",
    "from pyspark.ml import Pipeline\n",
    "from pyspark.ml.regression import RandomForestRegressor\n",
    "from pyspark.ml.feature import VectorIndexer\n",
    "from pyspark.ml.evaluation import RegressionEvaluator\n",
    "from pyspark.ml.linalg import DenseVector\n",
    "from pyspark.sql.functions import isnan, when, count, col"
   ]
  },
  {
   "cell_type": "code",
   "execution_count": 2,
   "metadata": {},
   "outputs": [],
   "source": [
    "spark = SparkSession.builder.master('yarn').appName('spark-test').getOrCreate()"
   ]
  },
  {
   "cell_type": "markdown",
   "metadata": {},
   "source": [
    "# Load data from Big Query\n",
    "\n",
    "Big Query connector loaded into cluster enviroment on initilisation. \n",
    "https://cloud.google.com/dataproc/docs/concepts/connectors/bigquery"
   ]
  },
  {
   "cell_type": "code",
   "execution_count": 3,
   "metadata": {},
   "outputs": [],
   "source": [
    "# Use the Cloud Storage bucket for temporary BigQuery export data used\n",
    "# by the connector.\n",
    "bucket = \"pyspark_temp_20201006_eu\"\n",
    "spark.conf.set('temporaryGcsBucket', bucket)"
   ]
  },
  {
   "cell_type": "code",
   "execution_count": 24,
   "metadata": {},
   "outputs": [],
   "source": [
    "# Load data from BigQuery.\n",
    "taxi= spark.read.format('bigquery').option('table', 'sap-ds-demo:big_data_demo_ew2.nyc_taxi_1000').load()\n",
    "taxi.createOrReplaceTempView('taxi')"
   ]
  },
  {
   "cell_type": "markdown",
   "metadata": {},
   "source": [
    "# Check data"
   ]
  },
  {
   "cell_type": "code",
   "execution_count": 14,
   "metadata": {},
   "outputs": [
    {
     "name": "stdout",
     "output_type": "stream",
     "text": [
      "89 ms ± 14.6 ms per loop (mean ± std. dev. of 7 runs, 10 loops each)\n"
     ]
    }
   ],
   "source": [
    "%%timeit\n",
    "taxi.count()"
   ]
  },
  {
   "cell_type": "code",
   "execution_count": 25,
   "metadata": {},
   "outputs": [
    {
     "name": "stdout",
     "output_type": "stream",
     "text": [
      "CPU times: user 2.1 ms, sys: 278 µs, total: 2.38 ms\n",
      "Wall time: 67.8 ms\n"
     ]
    },
    {
     "data": {
      "text/plain": [
       "1000"
      ]
     },
     "execution_count": 25,
     "metadata": {},
     "output_type": "execute_result"
    }
   ],
   "source": [
    "%%time\n",
    "taxi.count()"
   ]
  },
  {
   "cell_type": "code",
   "execution_count": 6,
   "metadata": {},
   "outputs": [
    {
     "name": "stdout",
     "output_type": "stream",
     "text": [
      "root\n",
      " |-- vendor_id: string (nullable = true)\n",
      " |-- journey_length: long (nullable = true)\n",
      " |-- year: long (nullable = true)\n",
      " |-- month: long (nullable = true)\n",
      " |-- dayofweek: long (nullable = true)\n",
      " |-- pu_hour: long (nullable = true)\n",
      " |-- do_hour: long (nullable = true)\n",
      " |-- passenger_count: long (nullable = true)\n",
      " |-- trip_distance: double (nullable = true)\n",
      " |-- pickup_longitude: double (nullable = true)\n",
      " |-- rate_code: double (nullable = true)\n",
      " |-- store_and_fwd_flag: string (nullable = true)\n",
      " |-- dropoff_longitude: double (nullable = true)\n",
      " |-- dropoff_latitude: double (nullable = true)\n",
      " |-- payment_type: string (nullable = true)\n",
      " |-- total_amount: double (nullable = true)\n",
      " |-- pu_m_center: double (nullable = true)\n",
      " |-- do_m_center: double (nullable = true)\n",
      " |-- pu_m_jfk: double (nullable = true)\n",
      " |-- do_m_jfk: double (nullable = true)\n",
      "\n"
     ]
    }
   ],
   "source": [
    "taxi.printSchema()"
   ]
  },
  {
   "cell_type": "code",
   "execution_count": 7,
   "metadata": {},
   "outputs": [
    {
     "data": {
      "text/html": [
       "<div>\n",
       "<style scoped>\n",
       "    .dataframe tbody tr th:only-of-type {\n",
       "        vertical-align: middle;\n",
       "    }\n",
       "\n",
       "    .dataframe tbody tr th {\n",
       "        vertical-align: top;\n",
       "    }\n",
       "\n",
       "    .dataframe thead th {\n",
       "        text-align: right;\n",
       "    }\n",
       "</style>\n",
       "<table border=\"1\" class=\"dataframe\">\n",
       "  <thead>\n",
       "    <tr style=\"text-align: right;\">\n",
       "      <th></th>\n",
       "      <th>vendor_id</th>\n",
       "      <th>journey_length</th>\n",
       "      <th>year</th>\n",
       "      <th>month</th>\n",
       "      <th>dayofweek</th>\n",
       "      <th>pu_hour</th>\n",
       "      <th>do_hour</th>\n",
       "      <th>passenger_count</th>\n",
       "      <th>trip_distance</th>\n",
       "      <th>pickup_longitude</th>\n",
       "      <th>rate_code</th>\n",
       "      <th>store_and_fwd_flag</th>\n",
       "      <th>dropoff_longitude</th>\n",
       "      <th>dropoff_latitude</th>\n",
       "      <th>payment_type</th>\n",
       "      <th>total_amount</th>\n",
       "      <th>pu_m_center</th>\n",
       "      <th>do_m_center</th>\n",
       "      <th>pu_m_jfk</th>\n",
       "      <th>do_m_jfk</th>\n",
       "    </tr>\n",
       "  </thead>\n",
       "  <tbody>\n",
       "    <tr>\n",
       "      <th>0</th>\n",
       "      <td>CMT</td>\n",
       "      <td>0</td>\n",
       "      <td>2009</td>\n",
       "      <td>9</td>\n",
       "      <td>1</td>\n",
       "      <td>0</td>\n",
       "      <td>0</td>\n",
       "      <td>1</td>\n",
       "      <td>0.0</td>\n",
       "      <td>-74.006727</td>\n",
       "      <td>40.712822</td>\n",
       "      <td>0</td>\n",
       "      <td>-74.006624</td>\n",
       "      <td>40.713165</td>\n",
       "      <td>No Charge</td>\n",
       "      <td>2.5</td>\n",
       "      <td>6340.676613</td>\n",
       "      <td>6320.606246</td>\n",
       "      <td>6340.676613</td>\n",
       "      <td>6320.606246</td>\n",
       "    </tr>\n",
       "    <tr>\n",
       "      <th>1</th>\n",
       "      <td>VTS</td>\n",
       "      <td>1</td>\n",
       "      <td>2009</td>\n",
       "      <td>11</td>\n",
       "      <td>1</td>\n",
       "      <td>0</td>\n",
       "      <td>0</td>\n",
       "      <td>1</td>\n",
       "      <td>0.0</td>\n",
       "      <td>-74.002962</td>\n",
       "      <td>40.727873</td>\n",
       "      <td></td>\n",
       "      <td>-74.003005</td>\n",
       "      <td>40.727885</td>\n",
       "      <td>CASH</td>\n",
       "      <td>3.5</td>\n",
       "      <td>5714.454928</td>\n",
       "      <td>5718.001754</td>\n",
       "      <td>5714.454928</td>\n",
       "      <td>5718.001754</td>\n",
       "    </tr>\n",
       "    <tr>\n",
       "      <th>2</th>\n",
       "      <td>VTS</td>\n",
       "      <td>1</td>\n",
       "      <td>2009</td>\n",
       "      <td>11</td>\n",
       "      <td>1</td>\n",
       "      <td>0</td>\n",
       "      <td>0</td>\n",
       "      <td>1</td>\n",
       "      <td>0.0</td>\n",
       "      <td>-73.999203</td>\n",
       "      <td>40.734107</td>\n",
       "      <td></td>\n",
       "      <td>-73.999203</td>\n",
       "      <td>40.734107</td>\n",
       "      <td>Credit</td>\n",
       "      <td>5.5</td>\n",
       "      <td>5403.354587</td>\n",
       "      <td>5403.354587</td>\n",
       "      <td>5403.354587</td>\n",
       "      <td>5403.354587</td>\n",
       "    </tr>\n",
       "    <tr>\n",
       "      <th>3</th>\n",
       "      <td>CMT</td>\n",
       "      <td>0</td>\n",
       "      <td>2009</td>\n",
       "      <td>7</td>\n",
       "      <td>7</td>\n",
       "      <td>0</td>\n",
       "      <td>0</td>\n",
       "      <td>1</td>\n",
       "      <td>0.0</td>\n",
       "      <td>-73.992394</td>\n",
       "      <td>40.724811</td>\n",
       "      <td>0</td>\n",
       "      <td>-73.992392</td>\n",
       "      <td>40.724819</td>\n",
       "      <td>Cash</td>\n",
       "      <td>2.5</td>\n",
       "      <td>4858.932353</td>\n",
       "      <td>4858.647049</td>\n",
       "      <td>4858.932353</td>\n",
       "      <td>4858.647049</td>\n",
       "    </tr>\n",
       "    <tr>\n",
       "      <th>4</th>\n",
       "      <td>CMT</td>\n",
       "      <td>0</td>\n",
       "      <td>2009</td>\n",
       "      <td>11</td>\n",
       "      <td>5</td>\n",
       "      <td>0</td>\n",
       "      <td>0</td>\n",
       "      <td>1</td>\n",
       "      <td>0.0</td>\n",
       "      <td>-73.986512</td>\n",
       "      <td>40.761462</td>\n",
       "      <td>0</td>\n",
       "      <td>-73.986529</td>\n",
       "      <td>40.761480</td>\n",
       "      <td>Cash</td>\n",
       "      <td>3.5</td>\n",
       "      <td>5515.768986</td>\n",
       "      <td>5518.134853</td>\n",
       "      <td>5515.768986</td>\n",
       "      <td>5518.134853</td>\n",
       "    </tr>\n",
       "    <tr>\n",
       "      <th>5</th>\n",
       "      <td>VTS</td>\n",
       "      <td>-4</td>\n",
       "      <td>2009</td>\n",
       "      <td>3</td>\n",
       "      <td>6</td>\n",
       "      <td>0</td>\n",
       "      <td>0</td>\n",
       "      <td>5</td>\n",
       "      <td>0.0</td>\n",
       "      <td>-73.995103</td>\n",
       "      <td>40.731277</td>\n",
       "      <td></td>\n",
       "      <td>-74.008030</td>\n",
       "      <td>40.730933</td>\n",
       "      <td>CASH</td>\n",
       "      <td>3.0</td>\n",
       "      <td>5044.531882</td>\n",
       "      <td>6133.357940</td>\n",
       "      <td>5044.531882</td>\n",
       "      <td>6133.357940</td>\n",
       "    </tr>\n",
       "    <tr>\n",
       "      <th>6</th>\n",
       "      <td>CMT</td>\n",
       "      <td>0</td>\n",
       "      <td>2009</td>\n",
       "      <td>7</td>\n",
       "      <td>6</td>\n",
       "      <td>0</td>\n",
       "      <td>0</td>\n",
       "      <td>1</td>\n",
       "      <td>0.0</td>\n",
       "      <td>-73.984971</td>\n",
       "      <td>40.767525</td>\n",
       "      <td>0</td>\n",
       "      <td>-73.984971</td>\n",
       "      <td>40.767525</td>\n",
       "      <td>Cash</td>\n",
       "      <td>2.5</td>\n",
       "      <td>5864.957050</td>\n",
       "      <td>5864.957050</td>\n",
       "      <td>5864.957050</td>\n",
       "      <td>5864.957050</td>\n",
       "    </tr>\n",
       "    <tr>\n",
       "      <th>7</th>\n",
       "      <td>CMT</td>\n",
       "      <td>0</td>\n",
       "      <td>2009</td>\n",
       "      <td>7</td>\n",
       "      <td>4</td>\n",
       "      <td>0</td>\n",
       "      <td>0</td>\n",
       "      <td>1</td>\n",
       "      <td>0.0</td>\n",
       "      <td>-74.011516</td>\n",
       "      <td>40.714566</td>\n",
       "      <td>0</td>\n",
       "      <td>-74.011075</td>\n",
       "      <td>40.714169</td>\n",
       "      <td>Cash</td>\n",
       "      <td>2.5</td>\n",
       "      <td>6670.761685</td>\n",
       "      <td>6646.982691</td>\n",
       "      <td>6670.761685</td>\n",
       "      <td>6646.982691</td>\n",
       "    </tr>\n",
       "    <tr>\n",
       "      <th>8</th>\n",
       "      <td>DDS</td>\n",
       "      <td>0</td>\n",
       "      <td>2009</td>\n",
       "      <td>5</td>\n",
       "      <td>2</td>\n",
       "      <td>0</td>\n",
       "      <td>0</td>\n",
       "      <td>1</td>\n",
       "      <td>0.0</td>\n",
       "      <td>-73.982345</td>\n",
       "      <td>40.767384</td>\n",
       "      <td></td>\n",
       "      <td>-73.981823</td>\n",
       "      <td>40.767653</td>\n",
       "      <td>CASH</td>\n",
       "      <td>3.0</td>\n",
       "      <td>5697.795231</td>\n",
       "      <td>5688.875095</td>\n",
       "      <td>5697.795231</td>\n",
       "      <td>5688.875095</td>\n",
       "    </tr>\n",
       "    <tr>\n",
       "      <th>9</th>\n",
       "      <td>DDS</td>\n",
       "      <td>0</td>\n",
       "      <td>2009</td>\n",
       "      <td>5</td>\n",
       "      <td>6</td>\n",
       "      <td>0</td>\n",
       "      <td>0</td>\n",
       "      <td>1</td>\n",
       "      <td>0.0</td>\n",
       "      <td>-73.962730</td>\n",
       "      <td>40.760227</td>\n",
       "      <td></td>\n",
       "      <td>-73.960835</td>\n",
       "      <td>40.759509</td>\n",
       "      <td>CASH</td>\n",
       "      <td>3.0</td>\n",
       "      <td>4025.912499</td>\n",
       "      <td>3869.711833</td>\n",
       "      <td>4025.912499</td>\n",
       "      <td>3869.711833</td>\n",
       "    </tr>\n",
       "  </tbody>\n",
       "</table>\n",
       "</div>"
      ],
      "text/plain": [
       "  vendor_id  journey_length  year  month  dayofweek  pu_hour  do_hour  \\\n",
       "0       CMT               0  2009      9          1        0        0   \n",
       "1       VTS               1  2009     11          1        0        0   \n",
       "2       VTS               1  2009     11          1        0        0   \n",
       "3       CMT               0  2009      7          7        0        0   \n",
       "4       CMT               0  2009     11          5        0        0   \n",
       "5       VTS              -4  2009      3          6        0        0   \n",
       "6       CMT               0  2009      7          6        0        0   \n",
       "7       CMT               0  2009      7          4        0        0   \n",
       "8       DDS               0  2009      5          2        0        0   \n",
       "9       DDS               0  2009      5          6        0        0   \n",
       "\n",
       "   passenger_count  trip_distance  pickup_longitude  rate_code  \\\n",
       "0                1            0.0        -74.006727  40.712822   \n",
       "1                1            0.0        -74.002962  40.727873   \n",
       "2                1            0.0        -73.999203  40.734107   \n",
       "3                1            0.0        -73.992394  40.724811   \n",
       "4                1            0.0        -73.986512  40.761462   \n",
       "5                5            0.0        -73.995103  40.731277   \n",
       "6                1            0.0        -73.984971  40.767525   \n",
       "7                1            0.0        -74.011516  40.714566   \n",
       "8                1            0.0        -73.982345  40.767384   \n",
       "9                1            0.0        -73.962730  40.760227   \n",
       "\n",
       "  store_and_fwd_flag  dropoff_longitude  dropoff_latitude payment_type  \\\n",
       "0                  0         -74.006624         40.713165    No Charge   \n",
       "1                            -74.003005         40.727885         CASH   \n",
       "2                            -73.999203         40.734107       Credit   \n",
       "3                  0         -73.992392         40.724819         Cash   \n",
       "4                  0         -73.986529         40.761480         Cash   \n",
       "5                            -74.008030         40.730933         CASH   \n",
       "6                  0         -73.984971         40.767525         Cash   \n",
       "7                  0         -74.011075         40.714169         Cash   \n",
       "8                            -73.981823         40.767653         CASH   \n",
       "9                            -73.960835         40.759509         CASH   \n",
       "\n",
       "   total_amount  pu_m_center  do_m_center     pu_m_jfk     do_m_jfk  \n",
       "0           2.5  6340.676613  6320.606246  6340.676613  6320.606246  \n",
       "1           3.5  5714.454928  5718.001754  5714.454928  5718.001754  \n",
       "2           5.5  5403.354587  5403.354587  5403.354587  5403.354587  \n",
       "3           2.5  4858.932353  4858.647049  4858.932353  4858.647049  \n",
       "4           3.5  5515.768986  5518.134853  5515.768986  5518.134853  \n",
       "5           3.0  5044.531882  6133.357940  5044.531882  6133.357940  \n",
       "6           2.5  5864.957050  5864.957050  5864.957050  5864.957050  \n",
       "7           2.5  6670.761685  6646.982691  6670.761685  6646.982691  \n",
       "8           3.0  5697.795231  5688.875095  5697.795231  5688.875095  \n",
       "9           3.0  4025.912499  3869.711833  4025.912499  3869.711833  "
      ]
     },
     "execution_count": 7,
     "metadata": {},
     "output_type": "execute_result"
    }
   ],
   "source": [
    "taxi.limit(10).toPandas()"
   ]
  },
  {
   "cell_type": "code",
   "execution_count": 28,
   "metadata": {},
   "outputs": [
    {
     "name": "stdout",
     "output_type": "stream",
     "text": [
      "CPU times: user 16.2 ms, sys: 469 µs, total: 16.6 ms\n",
      "Wall time: 1.73 s\n"
     ]
    },
    {
     "data": {
      "text/html": [
       "<div>\n",
       "<style scoped>\n",
       "    .dataframe tbody tr th:only-of-type {\n",
       "        vertical-align: middle;\n",
       "    }\n",
       "\n",
       "    .dataframe tbody tr th {\n",
       "        vertical-align: top;\n",
       "    }\n",
       "\n",
       "    .dataframe thead th {\n",
       "        text-align: right;\n",
       "    }\n",
       "</style>\n",
       "<table border=\"1\" class=\"dataframe\">\n",
       "  <thead>\n",
       "    <tr style=\"text-align: right;\">\n",
       "      <th></th>\n",
       "      <th>year</th>\n",
       "      <th>count</th>\n",
       "    </tr>\n",
       "  </thead>\n",
       "  <tbody>\n",
       "    <tr>\n",
       "      <th>0</th>\n",
       "      <td>2016</td>\n",
       "      <td>1</td>\n",
       "    </tr>\n",
       "    <tr>\n",
       "      <th>1</th>\n",
       "      <td>2014</td>\n",
       "      <td>172</td>\n",
       "    </tr>\n",
       "    <tr>\n",
       "      <th>2</th>\n",
       "      <td>2013</td>\n",
       "      <td>201</td>\n",
       "    </tr>\n",
       "    <tr>\n",
       "      <th>3</th>\n",
       "      <td>2012</td>\n",
       "      <td>158</td>\n",
       "    </tr>\n",
       "    <tr>\n",
       "      <th>4</th>\n",
       "      <td>2011</td>\n",
       "      <td>135</td>\n",
       "    </tr>\n",
       "    <tr>\n",
       "      <th>5</th>\n",
       "      <td>2010</td>\n",
       "      <td>151</td>\n",
       "    </tr>\n",
       "    <tr>\n",
       "      <th>6</th>\n",
       "      <td>2009</td>\n",
       "      <td>182</td>\n",
       "    </tr>\n",
       "  </tbody>\n",
       "</table>\n",
       "</div>"
      ],
      "text/plain": [
       "   year  count\n",
       "0  2016      1\n",
       "1  2014    172\n",
       "2  2013    201\n",
       "3  2012    158\n",
       "4  2011    135\n",
       "5  2010    151\n",
       "6  2009    182"
      ]
     },
     "execution_count": 28,
     "metadata": {},
     "output_type": "execute_result"
    }
   ],
   "source": [
    "%%time\n",
    "taxi.groupBy(\"year\").count().sort(\"year\",ascending=False).toPandas()"
   ]
  },
  {
   "cell_type": "code",
   "execution_count": 29,
   "metadata": {},
   "outputs": [
    {
     "name": "stdout",
     "output_type": "stream",
     "text": [
      "CPU times: user 26.8 ms, sys: 3.86 ms, total: 30.7 ms\n",
      "Wall time: 1.69 s\n"
     ]
    },
    {
     "data": {
      "text/html": [
       "<div>\n",
       "<style scoped>\n",
       "    .dataframe tbody tr th:only-of-type {\n",
       "        vertical-align: middle;\n",
       "    }\n",
       "\n",
       "    .dataframe tbody tr th {\n",
       "        vertical-align: top;\n",
       "    }\n",
       "\n",
       "    .dataframe thead th {\n",
       "        text-align: right;\n",
       "    }\n",
       "</style>\n",
       "<table border=\"1\" class=\"dataframe\">\n",
       "  <thead>\n",
       "    <tr style=\"text-align: right;\">\n",
       "      <th></th>\n",
       "      <th>summary</th>\n",
       "      <th>vendor_id</th>\n",
       "      <th>journey_length</th>\n",
       "      <th>year</th>\n",
       "      <th>month</th>\n",
       "      <th>dayofweek</th>\n",
       "      <th>pu_hour</th>\n",
       "      <th>do_hour</th>\n",
       "      <th>passenger_count</th>\n",
       "      <th>trip_distance</th>\n",
       "      <th>...</th>\n",
       "      <th>rate_code</th>\n",
       "      <th>store_and_fwd_flag</th>\n",
       "      <th>dropoff_longitude</th>\n",
       "      <th>dropoff_latitude</th>\n",
       "      <th>payment_type</th>\n",
       "      <th>total_amount</th>\n",
       "      <th>pu_m_center</th>\n",
       "      <th>do_m_center</th>\n",
       "      <th>pu_m_jfk</th>\n",
       "      <th>do_m_jfk</th>\n",
       "    </tr>\n",
       "  </thead>\n",
       "  <tbody>\n",
       "    <tr>\n",
       "      <th>0</th>\n",
       "      <td>count</td>\n",
       "      <td>1000</td>\n",
       "      <td>1000</td>\n",
       "      <td>1000</td>\n",
       "      <td>1000</td>\n",
       "      <td>1000</td>\n",
       "      <td>1000</td>\n",
       "      <td>1000</td>\n",
       "      <td>1000</td>\n",
       "      <td>1000</td>\n",
       "      <td>...</td>\n",
       "      <td>1000</td>\n",
       "      <td>1000</td>\n",
       "      <td>1000</td>\n",
       "      <td>1000</td>\n",
       "      <td>1000</td>\n",
       "      <td>1000</td>\n",
       "      <td>1000</td>\n",
       "      <td>1000</td>\n",
       "      <td>1000</td>\n",
       "      <td>1000</td>\n",
       "    </tr>\n",
       "    <tr>\n",
       "      <th>1</th>\n",
       "      <td>mean</td>\n",
       "      <td>2.0</td>\n",
       "      <td>3.156</td>\n",
       "      <td>2011.566</td>\n",
       "      <td>6.458</td>\n",
       "      <td>4.211</td>\n",
       "      <td>0.0</td>\n",
       "      <td>0.058</td>\n",
       "      <td>1.68</td>\n",
       "      <td>0.6446600000000006</td>\n",
       "      <td>...</td>\n",
       "      <td>39.58942331989201</td>\n",
       "      <td>0.0</td>\n",
       "      <td>-71.93108716965665</td>\n",
       "      <td>39.46755911563793</td>\n",
       "      <td>1.0</td>\n",
       "      <td>5.00825</td>\n",
       "      <td>223812.1472677903</td>\n",
       "      <td>249762.91950719836</td>\n",
       "      <td>223812.1472677903</td>\n",
       "      <td>249762.91950719836</td>\n",
       "    </tr>\n",
       "    <tr>\n",
       "      <th>2</th>\n",
       "      <td>stddev</td>\n",
       "      <td>NaN</td>\n",
       "      <td>6.449593883436482</td>\n",
       "      <td>1.7597558753251912</td>\n",
       "      <td>3.475674943995238</td>\n",
       "      <td>2.1769745561715284</td>\n",
       "      <td>0.0</td>\n",
       "      <td>0.24636699595663514</td>\n",
       "      <td>1.2669669313779282</td>\n",
       "      <td>0.6041531970332402</td>\n",
       "      <td>...</td>\n",
       "      <td>8.451977333500384</td>\n",
       "      <td>0.0</td>\n",
       "      <td>12.701428196267504</td>\n",
       "      <td>8.724912232857061</td>\n",
       "      <td>NaN</td>\n",
       "      <td>0.6937944856283362</td>\n",
       "      <td>1461013.4557883241</td>\n",
       "      <td>1532171.4404206683</td>\n",
       "      <td>1461013.4557883241</td>\n",
       "      <td>1532171.4404206683</td>\n",
       "    </tr>\n",
       "    <tr>\n",
       "      <th>3</th>\n",
       "      <td>min</td>\n",
       "      <td>2</td>\n",
       "      <td>-4</td>\n",
       "      <td>2009</td>\n",
       "      <td>1</td>\n",
       "      <td>1</td>\n",
       "      <td>0</td>\n",
       "      <td>0</td>\n",
       "      <td>0</td>\n",
       "      <td>0.0</td>\n",
       "      <td>...</td>\n",
       "      <td>-74.005127</td>\n",
       "      <td></td>\n",
       "      <td>-74.167993</td>\n",
       "      <td>-74.006007</td>\n",
       "      <td>1</td>\n",
       "      <td>2.5</td>\n",
       "      <td>858.6397937452996</td>\n",
       "      <td>859.2642971053626</td>\n",
       "      <td>858.6397937452996</td>\n",
       "      <td>859.2642971053626</td>\n",
       "    </tr>\n",
       "    <tr>\n",
       "      <th>4</th>\n",
       "      <td>max</td>\n",
       "      <td>VTS</td>\n",
       "      <td>178</td>\n",
       "      <td>2016</td>\n",
       "      <td>12</td>\n",
       "      <td>7</td>\n",
       "      <td>0</td>\n",
       "      <td>3</td>\n",
       "      <td>6</td>\n",
       "      <td>10.8</td>\n",
       "      <td>...</td>\n",
       "      <td>41.366138</td>\n",
       "      <td>Y</td>\n",
       "      <td>40.751217</td>\n",
       "      <td>41.366138</td>\n",
       "      <td>No Charge</td>\n",
       "      <td>5.5</td>\n",
       "      <td>1.5078256032059642E7</td>\n",
       "      <td>1.5078524665365847E7</td>\n",
       "      <td>1.5078256032059642E7</td>\n",
       "      <td>1.5078524665365847E7</td>\n",
       "    </tr>\n",
       "  </tbody>\n",
       "</table>\n",
       "<p>5 rows × 21 columns</p>\n",
       "</div>"
      ],
      "text/plain": [
       "  summary vendor_id     journey_length                year              month  \\\n",
       "0   count      1000               1000                1000               1000   \n",
       "1    mean       2.0              3.156            2011.566              6.458   \n",
       "2  stddev       NaN  6.449593883436482  1.7597558753251912  3.475674943995238   \n",
       "3     min         2                 -4                2009                  1   \n",
       "4     max       VTS                178                2016                 12   \n",
       "\n",
       "            dayofweek pu_hour              do_hour     passenger_count  \\\n",
       "0                1000    1000                 1000                1000   \n",
       "1               4.211     0.0                0.058                1.68   \n",
       "2  2.1769745561715284     0.0  0.24636699595663514  1.2669669313779282   \n",
       "3                   1       0                    0                   0   \n",
       "4                   7       0                    3                   6   \n",
       "\n",
       "        trip_distance  ...          rate_code store_and_fwd_flag  \\\n",
       "0                1000  ...               1000               1000   \n",
       "1  0.6446600000000006  ...  39.58942331989201                0.0   \n",
       "2  0.6041531970332402  ...  8.451977333500384                0.0   \n",
       "3                 0.0  ...         -74.005127                      \n",
       "4                10.8  ...          41.366138                  Y   \n",
       "\n",
       "    dropoff_longitude   dropoff_latitude payment_type        total_amount  \\\n",
       "0                1000               1000         1000                1000   \n",
       "1  -71.93108716965665  39.46755911563793          1.0             5.00825   \n",
       "2  12.701428196267504  8.724912232857061          NaN  0.6937944856283362   \n",
       "3          -74.167993         -74.006007            1                 2.5   \n",
       "4           40.751217          41.366138    No Charge                 5.5   \n",
       "\n",
       "            pu_m_center           do_m_center              pu_m_jfk  \\\n",
       "0                  1000                  1000                  1000   \n",
       "1     223812.1472677903    249762.91950719836     223812.1472677903   \n",
       "2    1461013.4557883241    1532171.4404206683    1461013.4557883241   \n",
       "3     858.6397937452996     859.2642971053626     858.6397937452996   \n",
       "4  1.5078256032059642E7  1.5078524665365847E7  1.5078256032059642E7   \n",
       "\n",
       "               do_m_jfk  \n",
       "0                  1000  \n",
       "1    249762.91950719836  \n",
       "2    1532171.4404206683  \n",
       "3     859.2642971053626  \n",
       "4  1.5078524665365847E7  \n",
       "\n",
       "[5 rows x 21 columns]"
      ]
     },
     "execution_count": 29,
     "metadata": {},
     "output_type": "execute_result"
    }
   ],
   "source": [
    "%%time\n",
    "taxi.describe().toPandas()"
   ]
  },
  {
   "cell_type": "markdown",
   "metadata": {},
   "source": [
    "Max total amount is fairly low $5.5. Have checked the full dataset and this is due to odd sampling. Shouldn't be too much of an issue for trial purposes."
   ]
  },
  {
   "cell_type": "code",
   "execution_count": 10,
   "metadata": {},
   "outputs": [
    {
     "data": {
      "text/html": [
       "<div>\n",
       "<style scoped>\n",
       "    .dataframe tbody tr th:only-of-type {\n",
       "        vertical-align: middle;\n",
       "    }\n",
       "\n",
       "    .dataframe tbody tr th {\n",
       "        vertical-align: top;\n",
       "    }\n",
       "\n",
       "    .dataframe thead th {\n",
       "        text-align: right;\n",
       "    }\n",
       "</style>\n",
       "<table border=\"1\" class=\"dataframe\">\n",
       "  <thead>\n",
       "    <tr style=\"text-align: right;\">\n",
       "      <th></th>\n",
       "      <th>vendor_id</th>\n",
       "      <th>journey_length</th>\n",
       "      <th>year</th>\n",
       "      <th>month</th>\n",
       "      <th>dayofweek</th>\n",
       "      <th>pu_hour</th>\n",
       "      <th>do_hour</th>\n",
       "      <th>passenger_count</th>\n",
       "      <th>trip_distance</th>\n",
       "      <th>pickup_longitude</th>\n",
       "      <th>rate_code</th>\n",
       "      <th>store_and_fwd_flag</th>\n",
       "      <th>dropoff_longitude</th>\n",
       "      <th>dropoff_latitude</th>\n",
       "      <th>payment_type</th>\n",
       "      <th>total_amount</th>\n",
       "      <th>pu_m_center</th>\n",
       "      <th>do_m_center</th>\n",
       "      <th>pu_m_jfk</th>\n",
       "      <th>do_m_jfk</th>\n",
       "    </tr>\n",
       "  </thead>\n",
       "  <tbody>\n",
       "    <tr>\n",
       "      <th>0</th>\n",
       "      <td>0</td>\n",
       "      <td>0</td>\n",
       "      <td>0</td>\n",
       "      <td>0</td>\n",
       "      <td>0</td>\n",
       "      <td>0</td>\n",
       "      <td>0</td>\n",
       "      <td>0</td>\n",
       "      <td>0</td>\n",
       "      <td>0</td>\n",
       "      <td>0</td>\n",
       "      <td>0</td>\n",
       "      <td>0</td>\n",
       "      <td>0</td>\n",
       "      <td>0</td>\n",
       "      <td>0</td>\n",
       "      <td>0</td>\n",
       "      <td>0</td>\n",
       "      <td>0</td>\n",
       "      <td>0</td>\n",
       "    </tr>\n",
       "  </tbody>\n",
       "</table>\n",
       "</div>"
      ],
      "text/plain": [
       "   vendor_id  journey_length  year  month  dayofweek  pu_hour  do_hour  \\\n",
       "0          0               0     0      0          0        0        0   \n",
       "\n",
       "   passenger_count  trip_distance  pickup_longitude  rate_code  \\\n",
       "0                0              0                 0          0   \n",
       "\n",
       "   store_and_fwd_flag  dropoff_longitude  dropoff_latitude  payment_type  \\\n",
       "0                   0                  0                 0             0   \n",
       "\n",
       "   total_amount  pu_m_center  do_m_center  pu_m_jfk  do_m_jfk  \n",
       "0             0            0            0         0         0  "
      ]
     },
     "execution_count": 10,
     "metadata": {},
     "output_type": "execute_result"
    }
   ],
   "source": [
    "# Check null values\n",
    "taxi.select([count(when(isnan(c), c)).alias(c) for c in taxi.columns]).toPandas()"
   ]
  },
  {
   "cell_type": "code",
   "execution_count": 30,
   "metadata": {},
   "outputs": [
    {
     "data": {
      "text/html": [
       "<div>\n",
       "<style scoped>\n",
       "    .dataframe tbody tr th:only-of-type {\n",
       "        vertical-align: middle;\n",
       "    }\n",
       "\n",
       "    .dataframe tbody tr th {\n",
       "        vertical-align: top;\n",
       "    }\n",
       "\n",
       "    .dataframe thead th {\n",
       "        text-align: right;\n",
       "    }\n",
       "</style>\n",
       "<table border=\"1\" class=\"dataframe\">\n",
       "  <thead>\n",
       "    <tr style=\"text-align: right;\">\n",
       "      <th></th>\n",
       "      <th>total_amount</th>\n",
       "      <th>journey_length</th>\n",
       "      <th>year</th>\n",
       "      <th>month</th>\n",
       "      <th>dayofweek</th>\n",
       "      <th>pu_hour</th>\n",
       "      <th>do_hour</th>\n",
       "      <th>passenger_count</th>\n",
       "      <th>trip_distance</th>\n",
       "      <th>pu_m_center</th>\n",
       "      <th>do_m_center</th>\n",
       "      <th>pu_m_jfk</th>\n",
       "      <th>do_m_jfk</th>\n",
       "    </tr>\n",
       "  </thead>\n",
       "  <tbody>\n",
       "    <tr>\n",
       "      <th>0</th>\n",
       "      <td>2.5</td>\n",
       "      <td>0</td>\n",
       "      <td>2009</td>\n",
       "      <td>9</td>\n",
       "      <td>1</td>\n",
       "      <td>0</td>\n",
       "      <td>0</td>\n",
       "      <td>1</td>\n",
       "      <td>0.0</td>\n",
       "      <td>6340.676613</td>\n",
       "      <td>6320.606246</td>\n",
       "      <td>6340.676613</td>\n",
       "      <td>6320.606246</td>\n",
       "    </tr>\n",
       "    <tr>\n",
       "      <th>1</th>\n",
       "      <td>3.5</td>\n",
       "      <td>1</td>\n",
       "      <td>2009</td>\n",
       "      <td>11</td>\n",
       "      <td>1</td>\n",
       "      <td>0</td>\n",
       "      <td>0</td>\n",
       "      <td>1</td>\n",
       "      <td>0.0</td>\n",
       "      <td>5714.454928</td>\n",
       "      <td>5718.001754</td>\n",
       "      <td>5714.454928</td>\n",
       "      <td>5718.001754</td>\n",
       "    </tr>\n",
       "    <tr>\n",
       "      <th>2</th>\n",
       "      <td>5.5</td>\n",
       "      <td>1</td>\n",
       "      <td>2009</td>\n",
       "      <td>11</td>\n",
       "      <td>1</td>\n",
       "      <td>0</td>\n",
       "      <td>0</td>\n",
       "      <td>1</td>\n",
       "      <td>0.0</td>\n",
       "      <td>5403.354587</td>\n",
       "      <td>5403.354587</td>\n",
       "      <td>5403.354587</td>\n",
       "      <td>5403.354587</td>\n",
       "    </tr>\n",
       "    <tr>\n",
       "      <th>3</th>\n",
       "      <td>2.5</td>\n",
       "      <td>0</td>\n",
       "      <td>2009</td>\n",
       "      <td>7</td>\n",
       "      <td>7</td>\n",
       "      <td>0</td>\n",
       "      <td>0</td>\n",
       "      <td>1</td>\n",
       "      <td>0.0</td>\n",
       "      <td>4858.932353</td>\n",
       "      <td>4858.647049</td>\n",
       "      <td>4858.932353</td>\n",
       "      <td>4858.647049</td>\n",
       "    </tr>\n",
       "    <tr>\n",
       "      <th>4</th>\n",
       "      <td>3.5</td>\n",
       "      <td>0</td>\n",
       "      <td>2009</td>\n",
       "      <td>11</td>\n",
       "      <td>5</td>\n",
       "      <td>0</td>\n",
       "      <td>0</td>\n",
       "      <td>1</td>\n",
       "      <td>0.0</td>\n",
       "      <td>5515.768986</td>\n",
       "      <td>5518.134853</td>\n",
       "      <td>5515.768986</td>\n",
       "      <td>5518.134853</td>\n",
       "    </tr>\n",
       "  </tbody>\n",
       "</table>\n",
       "</div>"
      ],
      "text/plain": [
       "   total_amount  journey_length  year  month  dayofweek  pu_hour  do_hour  \\\n",
       "0           2.5               0  2009      9          1        0        0   \n",
       "1           3.5               1  2009     11          1        0        0   \n",
       "2           5.5               1  2009     11          1        0        0   \n",
       "3           2.5               0  2009      7          7        0        0   \n",
       "4           3.5               0  2009     11          5        0        0   \n",
       "\n",
       "   passenger_count  trip_distance  pu_m_center  do_m_center     pu_m_jfk  \\\n",
       "0                1            0.0  6340.676613  6320.606246  6340.676613   \n",
       "1                1            0.0  5714.454928  5718.001754  5714.454928   \n",
       "2                1            0.0  5403.354587  5403.354587  5403.354587   \n",
       "3                1            0.0  4858.932353  4858.647049  4858.932353   \n",
       "4                1            0.0  5515.768986  5518.134853  5515.768986   \n",
       "\n",
       "      do_m_jfk  \n",
       "0  6320.606246  \n",
       "1  5718.001754  \n",
       "2  5403.354587  \n",
       "3  4858.647049  \n",
       "4  5518.134853  "
      ]
     },
     "execution_count": 30,
     "metadata": {},
     "output_type": "execute_result"
    }
   ],
   "source": [
    "model_data = taxi.select(\"total_amount\", \"journey_length\", \"year\", \"month\", \n",
    "                         \"dayofweek\", \"pu_hour\", \"do_hour\", \n",
    "                         \"passenger_count\", \"trip_distance\", \n",
    "                         \"pu_m_center\", \n",
    "                         \"do_m_center\", \"pu_m_jfk\", \"do_m_jfk\")\n",
    "\n",
    "model_data.limit(5).toPandas()"
   ]
  },
  {
   "cell_type": "markdown",
   "metadata": {},
   "source": [
    "# Format data\n",
    "\n",
    "MLlib requires data to be formated as two columns: label and features where features is a vector of all X values."
   ]
  },
  {
   "cell_type": "code",
   "execution_count": 31,
   "metadata": {},
   "outputs": [
    {
     "name": "stdout",
     "output_type": "stream",
     "text": [
      "+-----+--------------------+\n",
      "|label|            features|\n",
      "+-----+--------------------+\n",
      "|  2.5|[0.0,2009.0,9.0,1...|\n",
      "|  3.5|[1.0,2009.0,11.0,...|\n",
      "|  5.5|[1.0,2009.0,11.0,...|\n",
      "|  2.5|[0.0,2009.0,7.0,7...|\n",
      "|  3.5|[0.0,2009.0,11.0,...|\n",
      "|  3.0|[-4.0,2009.0,3.0,...|\n",
      "|  2.5|[0.0,2009.0,7.0,6...|\n",
      "|  2.5|[0.0,2009.0,7.0,4...|\n",
      "|  3.0|[0.0,2009.0,5.0,2...|\n",
      "|  3.0|[0.0,2009.0,5.0,6...|\n",
      "|  2.5|[0.0,2009.0,8.0,7...|\n",
      "|  3.5|[0.0,2009.0,12.0,...|\n",
      "|  3.0|[0.0,2009.0,4.0,7...|\n",
      "|  2.5|[0.0,2009.0,10.0,...|\n",
      "|  3.0|[0.0,2009.0,3.0,4...|\n",
      "|  3.0|[0.0,2009.0,3.0,7...|\n",
      "|  3.0|[0.0,2009.0,4.0,3...|\n",
      "|  2.5|[178.0,2009.0,7.0...|\n",
      "|  4.5|[5.0,2009.0,6.0,6...|\n",
      "|  5.5|[4.0,2009.0,12.0,...|\n",
      "+-----+--------------------+\n",
      "only showing top 20 rows\n",
      "\n"
     ]
    }
   ],
   "source": [
    "# Format data as label and features\n",
    "\n",
    "# Define the `input_data` \n",
    "model_data_map = model_data.rdd.map(lambda x: (x[0], DenseVector(x[1:])))\n",
    "\n",
    "# # Replace `df` with the new DataFrame\n",
    "df = spark.createDataFrame(model_data_map, [\"label\", \"features\"])\n",
    "\n",
    "df.show()"
   ]
  },
  {
   "cell_type": "code",
   "execution_count": 32,
   "metadata": {},
   "outputs": [
    {
     "data": {
      "text/plain": [
       "[Row(label=2.5, features=DenseVector([0.0, 2009.0, 9.0, 1.0, 0.0, 0.0, 1.0, 0.0, 6340.6766, 6320.6062, 6340.6766, 6320.6062]), features_scaled=DenseVector([0.0, 1141.6356, 2.5894, 0.4594, 0.0, 0.0, 0.7893, 0.0, 0.0043, 0.0041, 0.0043, 0.0041])),\n",
       " Row(label=3.5, features=DenseVector([1.0, 2009.0, 11.0, 1.0, 0.0, 0.0, 1.0, 0.0, 5714.4549, 5718.0018, 5714.4549, 5718.0018]), features_scaled=DenseVector([0.155, 1141.6356, 3.1649, 0.4594, 0.0, 0.0, 0.7893, 0.0, 0.0039, 0.0037, 0.0039, 0.0037]))]"
      ]
     },
     "execution_count": 32,
     "metadata": {},
     "output_type": "execute_result"
    }
   ],
   "source": [
    "# Import `StandardScaler` \n",
    "from pyspark.ml.feature import StandardScaler\n",
    "\n",
    "# Initialize the `standardScaler`\n",
    "standardScaler = StandardScaler(inputCol=\"features\", outputCol=\"features_scaled\")\n",
    "\n",
    "# Fit the DataFrame to the scaler\n",
    "scaler = standardScaler.fit(df)\n",
    "\n",
    "# Transform the data in `df` with the scaler\n",
    "scaled_df = scaler.transform(df)\n",
    "\n",
    "# Inspect the result\n",
    "scaled_df.take(2)"
   ]
  },
  {
   "cell_type": "markdown",
   "metadata": {},
   "source": [
    "# Split test and train"
   ]
  },
  {
   "cell_type": "code",
   "execution_count": 33,
   "metadata": {},
   "outputs": [],
   "source": [
    "train_data, test_data = scaled_df.randomSplit([.8,.2],seed=1234)"
   ]
  },
  {
   "cell_type": "markdown",
   "metadata": {},
   "source": [
    "# Model data"
   ]
  },
  {
   "cell_type": "code",
   "execution_count": 34,
   "metadata": {},
   "outputs": [],
   "source": [
    "rf = RandomForestRegressor(featuresCol=\"features_scaled\")"
   ]
  },
  {
   "cell_type": "code",
   "execution_count": 35,
   "metadata": {},
   "outputs": [],
   "source": [
    "model = rf.fit(train_data)"
   ]
  },
  {
   "cell_type": "code",
   "execution_count": 17,
   "metadata": {},
   "outputs": [],
   "source": [
    "predictions = model.transform(test_data)"
   ]
  },
  {
   "cell_type": "code",
   "execution_count": 18,
   "metadata": {},
   "outputs": [
    {
     "name": "stdout",
     "output_type": "stream",
     "text": [
      "+-----+--------------------+--------------------+------------------+\n",
      "|label|            features|     features_scaled|        prediction|\n",
      "+-----+--------------------+--------------------+------------------+\n",
      "|  2.5|[0.0,2009.0,7.0,4...|[0.0,1141.6356258...| 2.987551608906712|\n",
      "|  2.5|[0.0,2009.0,7.0,6...|[0.0,1141.6356258...|2.9884108373975193|\n",
      "|  2.5|[0.0,2009.0,7.0,7...|[0.0,1141.6356258...|3.1153045686662506|\n",
      "|  3.0|[0.0,2009.0,4.0,7...|[0.0,1141.6356258...| 3.070418205029887|\n",
      "|  3.5|[0.0,2010.0,2.0,5...|[0.0,1142.2038864...|3.6400573752811822|\n",
      "|  3.5|[0.0,2010.0,4.0,4...|[0.0,1142.2038864...| 3.661391474375205|\n",
      "|  3.5|[0.0,2010.0,9.0,6...|[0.0,1142.2038864...|3.5992484188839287|\n",
      "|  3.5|[0.0,2011.0,1.0,7...|[0.0,1142.7721470...| 4.149842583050291|\n",
      "|  3.5|[0.0,2012.0,1.0,4...|[0.0,1143.3404077...| 3.791684729769108|\n",
      "|  3.5|[0.0,2012.0,4.0,1...|[0.0,1143.3404077...|3.7201844627579232|\n",
      "|  3.5|[0.0,2012.0,4.0,3...|[0.0,1143.3404077...| 3.608896418992745|\n",
      "|  3.5|[0.0,2013.0,12.0,...|[0.0,1143.9086683...|3.8140176437336946|\n",
      "|  3.5|[1.0,2010.0,3.0,1...|[0.15504852213534...| 3.724704619937488|\n",
      "|  3.5|[1.0,2010.0,12.0,...|[0.15504852213534...|  3.83316419315116|\n",
      "|  3.5|[1.0,2011.0,11.0,...|[0.15504852213534...|3.7820007270534832|\n",
      "|  3.5|[1.0,2012.0,8.0,6...|[0.15504852213534...|3.8309389770256588|\n",
      "|  3.5|[20.0,2011.0,3.0,...|[3.10097044270694...| 4.351461125238434|\n",
      "|  3.5|[36.0,2013.0,11.0...|[5.58174679687249...| 4.435223990287705|\n",
      "|  4.0|[0.0,2012.0,12.0,...|[0.0,1143.3404077...| 4.376943561758887|\n",
      "|  4.0|[1.0,2014.0,4.0,7...|[0.15504852213534...|4.3437346844912295|\n",
      "+-----+--------------------+--------------------+------------------+\n",
      "only showing top 20 rows\n",
      "\n"
     ]
    }
   ],
   "source": [
    "predictions.show()"
   ]
  },
  {
   "cell_type": "markdown",
   "metadata": {},
   "source": [
    "# Evaluate data"
   ]
  },
  {
   "cell_type": "code",
   "execution_count": 21,
   "metadata": {},
   "outputs": [
    {
     "name": "stdout",
     "output_type": "stream",
     "text": [
      "Root Mean Squared Error (RMSE) on test data = 0.29\n"
     ]
    }
   ],
   "source": [
    "# Select (prediction, true label) and compute test error\n",
    "evaluator = RegressionEvaluator(\n",
    "    labelCol=\"label\", predictionCol=\"prediction\", metricName=\"rmse\")\n",
    "rmse = evaluator.evaluate(predictions)\n",
    "print(\"Root Mean Squared Error (RMSE) on test data = {:.2f}\".format(rmse))"
   ]
  },
  {
   "cell_type": "code",
   "execution_count": 22,
   "metadata": {},
   "outputs": [
    {
     "name": "stdout",
     "output_type": "stream",
     "text": [
      "Root Mean Squared Error (RMSE) on test data = 0.84\n"
     ]
    }
   ],
   "source": [
    "evaluator = RegressionEvaluator(\n",
    "    labelCol=\"label\", predictionCol=\"prediction\", metricName=\"r2\")\n",
    "r2 = evaluator.evaluate(predictions)\n",
    "print(\"Root Mean Squared Error (RMSE) on test data = {:.2f}\".format(r2))"
   ]
  },
  {
   "cell_type": "code",
   "execution_count": 23,
   "metadata": {},
   "outputs": [],
   "source": [
    "spark.catalog.clearCache()"
   ]
  },
  {
   "cell_type": "markdown",
   "metadata": {},
   "source": [
    "# 100K rows"
   ]
  },
  {
   "cell_type": "code",
   "execution_count": 24,
   "metadata": {},
   "outputs": [],
   "source": [
    "# Load data from BigQuery.\n",
    "taxi= spark.read.format('bigquery').option('table', 'sap-ds-demo:big_data_demo_ew2.nyc_taxi_100000').load()\n",
    "taxi.createOrReplaceTempView('taxi')"
   ]
  },
  {
   "cell_type": "code",
   "execution_count": 25,
   "metadata": {},
   "outputs": [
    {
     "data": {
      "text/plain": [
       "100000"
      ]
     },
     "execution_count": 25,
     "metadata": {},
     "output_type": "execute_result"
    }
   ],
   "source": [
    "taxi.count()"
   ]
  },
  {
   "cell_type": "code",
   "execution_count": 27,
   "metadata": {},
   "outputs": [],
   "source": [
    "def prep_model_data(df):\n",
    "    \n",
    "    print(\"Preparing model data\")\n",
    "    \n",
    "    model_data = df.select(\"total_amount\", \"journey_length\", \"year\", \"month\", \n",
    "                         \"dayofweek\", \"pu_hour\", \"do_hour\", \n",
    "                         \"passenger_count\", \"trip_distance\", \n",
    "                         \"pu_m_center\", \n",
    "                         \"do_m_center\", \"pu_m_jfk\", \"do_m_jfk\")\n",
    "    \n",
    "    model_data_map = model_data.rdd.map(lambda x: (x[0], DenseVector(x[1:])))    \n",
    "    train_test = spark.createDataFrame(model_data_map, [\"label\", \"features\"])\n",
    "    train, test = train_test.randomSplit([.8,.2],seed=1234)\n",
    "    return train, test\n",
    "\n",
    "def model_data(train, test):\n",
    "    \n",
    "    print(\"Modelling data\")\n",
    "    \n",
    "    rf = RandomForestRegressor(featuresCol=\"features\")\n",
    "    model = rf.fit(train_data)\n",
    "    predictions = model.transform(test_data)\n",
    "    \n",
    "    print(\"Evaluating test predictions\")\n",
    "    \n",
    "    # Select (prediction, true label) and compute test error\n",
    "    evaluator = RegressionEvaluator(\n",
    "    labelCol=\"label\", predictionCol=\"prediction\", metricName=\"rmse\")\n",
    "    rmse = evaluator.evaluate(predictions)\n",
    "    \n",
    "    evaluator = RegressionEvaluator(\n",
    "    labelCol=\"label\", predictionCol=\"prediction\", metricName=\"r2\")\n",
    "    r2 = evaluator.evaluate(predictions)\n",
    "    \n",
    "    print(\"RMSE: {:.2f}, R2 {:.2f}\".format(rmse, r2))"
   ]
  },
  {
   "cell_type": "code",
   "execution_count": 28,
   "metadata": {},
   "outputs": [
    {
     "name": "stdout",
     "output_type": "stream",
     "text": [
      "Preparing model data\n",
      "Train count: 79977. Test count: 20023\n"
     ]
    }
   ],
   "source": [
    "train, test = prep_model_data(taxi)\n",
    "\n",
    "print(\"Train count: {}. Test count: {}\".format(train.count(), test.count()))"
   ]
  },
  {
   "cell_type": "code",
   "execution_count": 29,
   "metadata": {},
   "outputs": [
    {
     "name": "stdout",
     "output_type": "stream",
     "text": [
      "Modelling data\n",
      "Evaluating test predictions\n",
      "RMSE: 0.29, R2 0.84\n"
     ]
    }
   ],
   "source": [
    "model_data(train, test)"
   ]
  },
  {
   "cell_type": "code",
   "execution_count": 30,
   "metadata": {},
   "outputs": [],
   "source": [
    "spark.catalog.clearCache()"
   ]
  },
  {
   "cell_type": "markdown",
   "metadata": {},
   "source": [
    "# 1 million rows"
   ]
  },
  {
   "cell_type": "code",
   "execution_count": 35,
   "metadata": {},
   "outputs": [],
   "source": [
    "# Load data from BigQuery.\n",
    "taxi= spark.read.format('bigquery').option('table', 'sap-ds-demo:big_data_demo_ew2.nyc_taxi_1m').load()\n",
    "taxi.createOrReplaceTempView('taxi')"
   ]
  },
  {
   "cell_type": "code",
   "execution_count": 36,
   "metadata": {},
   "outputs": [
    {
     "data": {
      "text/plain": [
       "100000000"
      ]
     },
     "execution_count": 36,
     "metadata": {},
     "output_type": "execute_result"
    }
   ],
   "source": [
    "taxi.count()"
   ]
  },
  {
   "cell_type": "code",
   "execution_count": 37,
   "metadata": {},
   "outputs": [
    {
     "name": "stdout",
     "output_type": "stream",
     "text": [
      "Preparing model data\n"
     ]
    }
   ],
   "source": [
    "train, test = prep_model_data(taxi)"
   ]
  },
  {
   "cell_type": "code",
   "execution_count": null,
   "metadata": {},
   "outputs": [],
   "source": [
    "print(\"Train count: {}. Test count: {}\".format(train.count(), test.count()))"
   ]
  },
  {
   "cell_type": "code",
   "execution_count": null,
   "metadata": {},
   "outputs": [],
   "source": [
    "model_data(train, test)"
   ]
  },
  {
   "cell_type": "code",
   "execution_count": null,
   "metadata": {},
   "outputs": [],
   "source": [
    "spark.catalog.clearCache()"
   ]
  },
  {
   "cell_type": "markdown",
   "metadata": {},
   "source": [
    "# 1 billion rows"
   ]
  },
  {
   "cell_type": "code",
   "execution_count": null,
   "metadata": {},
   "outputs": [],
   "source": [
    "# Load data from BigQuery.\n",
    "taxi= spark.read.format('bigquery').option('table', 'sap-ds-demo:big_data_demo_ew2.nyc_taxi_model_input').load()\n",
    "taxi.createOrReplaceTempView('taxi')"
   ]
  },
  {
   "cell_type": "code",
   "execution_count": null,
   "metadata": {},
   "outputs": [],
   "source": [
    "taxi.count()"
   ]
  },
  {
   "cell_type": "code",
   "execution_count": null,
   "metadata": {},
   "outputs": [],
   "source": [
    "train, test = prep_model_data(taxi)\n"
   ]
  },
  {
   "cell_type": "code",
   "execution_count": null,
   "metadata": {},
   "outputs": [],
   "source": [
    "train.count()"
   ]
  },
  {
   "cell_type": "code",
   "execution_count": null,
   "metadata": {},
   "outputs": [],
   "source": []
  },
  {
   "cell_type": "code",
   "execution_count": null,
   "metadata": {},
   "outputs": [],
   "source": []
  }
 ],
 "metadata": {
  "kernelspec": {
   "display_name": "Python 3",
   "language": "python",
   "name": "python3"
  },
  "language_info": {
   "codemirror_mode": {
    "name": "ipython",
    "version": 3
   },
   "file_extension": ".py",
   "mimetype": "text/x-python",
   "name": "python",
   "nbconvert_exporter": "python",
   "pygments_lexer": "ipython3",
   "version": "3.6.12"
  }
 },
 "nbformat": 4,
 "nbformat_minor": 2
}
