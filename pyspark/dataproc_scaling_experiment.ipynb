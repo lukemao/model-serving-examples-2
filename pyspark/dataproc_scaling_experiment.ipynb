{
 "cells": [
  {
   "cell_type": "markdown",
   "metadata": {},
   "source": [
    "# Dataproc scaling experiment\n",
    "\n",
    "In this notebook will test Dataproc scaling across a number of tasks in the context of fitting a machine learning model."
   ]
  },
  {
   "cell_type": "code",
   "execution_count": 38,
   "metadata": {},
   "outputs": [],
   "source": [
    "from pyspark.sql import SparkSession\n",
    "from pyspark.ml import Pipeline\n",
    "from pyspark.ml.regression import RandomForestRegressor\n",
    "from pyspark.ml.feature import VectorIndexer\n",
    "from pyspark.ml.evaluation import RegressionEvaluator\n",
    "from pyspark.ml.linalg import DenseVector\n",
    "from pyspark.sql.functions import isnan, when, count, col\n",
    "import datetime as dt"
   ]
  },
  {
   "cell_type": "code",
   "execution_count": 39,
   "metadata": {},
   "outputs": [],
   "source": [
    "spark = SparkSession.builder.master('yarn').appName('spark-test').getOrCreate()\n",
    "\n",
    "# Use the Cloud Storage bucket for temporary BigQuery export data used\n",
    "# by the connector.\n",
    "bucket = \"pyspark_temp_20201006_eu\"\n",
    "spark.conf.set('temporaryGcsBucket', bucket)"
   ]
  },
  {
   "cell_type": "code",
   "execution_count": 40,
   "metadata": {},
   "outputs": [],
   "source": [
    "def count_data(df):\n",
    "    \n",
    "    start = dt.datetime.now()\n",
    "    print(\"Counting data\")\n",
    "    data_count = df.count()\n",
    "    print(\"Data count\", data_count)\n",
    "    \n",
    "    end = dt.datetime.now()\n",
    "    delta = end - start\n",
    "    print(\"COUNT: {}\".format(delta))\n",
    "    print()\n",
    "    \n",
    "def group_data(df):\n",
    "    \n",
    "    start = dt.datetime.now()\n",
    "    print(\"Grouping data\")\n",
    "    \n",
    "    data = df.groupBy(\"year\").count().sort(\"year\",ascending=False).toPandas()\n",
    "    \n",
    "    end = dt.datetime.now()\n",
    "    delta = end - start\n",
    "    print(\"GROUP: {}\".format(delta))\n",
    "    print()\n",
    "    return data\n",
    "\n",
    "def describe_data(df):\n",
    "    \n",
    "    start = dt.datetime.now()\n",
    "    print(\"Describing data\")\n",
    "        \n",
    "    describe = df.describe().toPandas()\n",
    "    \n",
    "    end = dt.datetime.now()\n",
    "    delta = end - start\n",
    "    print(\"Describe: {}\".format(delta))\n",
    "    print()\n",
    "    return describe\n",
    "    \n",
    "\n",
    "\n",
    "def prep_model_data(df):\n",
    "\n",
    "    start = dt.datetime.now()    \n",
    "    print(\"Preparing model data\")\n",
    "    \n",
    "    model_data = df.select(\"total_amount\", \"journey_length\", \"year\", \"month\", \n",
    "                         \"dayofweek\", \"pu_hour\", \"do_hour\", \n",
    "                         \"passenger_count\", \"trip_distance\", \n",
    "                         \"pu_m_center\", \n",
    "                         \"do_m_center\", \"pu_m_jfk\", \"do_m_jfk\")\n",
    "    \n",
    "    model_data_map = model_data.rdd.map(lambda x: (x[0], DenseVector(x[1:])))    \n",
    "    train_test = spark.createDataFrame(model_data_map, [\"label\", \"features\"])\n",
    "    train, test = train_test.randomSplit([.8,.2],seed=1234)\n",
    "    \n",
    "    end = dt.datetime.now()\n",
    "    delta = end - start\n",
    "    print(\"Prep: {}\".format(delta))\n",
    "    print()\n",
    "    \n",
    "    return train, test\n",
    "\n",
    "\n",
    "def fit_model(train):\n",
    "    \n",
    "    start = dt.datetime.now()    \n",
    "    print(\"Fitting Mllib model\")\n",
    "    \n",
    "    rf = RandomForestRegressor(featuresCol=\"features\")\n",
    "    model = rf.fit(train)\n",
    "    \n",
    "    end = dt.datetime.now()\n",
    "    delta = end - start\n",
    "    print(\"Fit: {}\".format(delta))\n",
    "    print()\n",
    "    \n",
    "    return model\n",
    "\n",
    "\n",
    "def make_predictions(model, test):\n",
    "    \n",
    "    start = dt.datetime.now()\n",
    "    print(\"Making predicitons with Mllib model\")\n",
    "    predictions = model.transform(test)\n",
    "    \n",
    "    end = dt.datetime.now()\n",
    "    delta = end - start\n",
    "    print(\"Predictions: {}\".format(delta))\n",
    "    print()\n",
    "    \n",
    "    return predictions\n",
    "    \n",
    "def evaluate_predictions(predictions):\n",
    "    start = dt.datetime.now()\n",
    "    \n",
    "    print(\"Evaluating model\")\n",
    "    \n",
    "    print(\"Calculating RMSE\")\n",
    "    evaluator = RegressionEvaluator(\n",
    "    labelCol=\"label\", predictionCol=\"prediction\", metricName=\"rmse\")\n",
    "    rmse = evaluator.evaluate(predictions)\n",
    "    \n",
    "    print(\"Calculating R2\")\n",
    "    evaluator = RegressionEvaluator(\n",
    "    labelCol=\"label\", predictionCol=\"prediction\", metricName=\"r2\")\n",
    "    r2 = evaluator.evaluate(predictions)\n",
    "    \n",
    "    print(\"RMSE: {:.2f}, R2 {:.2f}\".format(rmse, r2))\n",
    "    \n",
    "    end = dt.datetime.now()\n",
    "    delta = end - start\n",
    "    print(\"Evaluation: {}\".format(delta))\n",
    "    print()\n",
    "    \n",
    "    \n",
    "def run_speed_test(df):\n",
    "    \n",
    "    count_data(df)\n",
    "    group_data(df)\n",
    "    describe_data(df)\n",
    "    train, test = prep_model_data(df)\n",
    "    model = fit_model(train)\n",
    "    predictions = make_predictions(model,test)\n",
    "    evaluate_predictions(predictions)"
   ]
  },
  {
   "cell_type": "markdown",
   "metadata": {},
   "source": [
    "# 1000 rows, 2 primary workers, 3 secondary\n",
    "\n",
    "67GB Yarn memory\n",
    "\n"
   ]
  },
  {
   "cell_type": "code",
   "execution_count": 26,
   "metadata": {},
   "outputs": [],
   "source": [
    "# Load data from BigQuery.\n",
    "taxi_1k = spark.read.format('bigquery').option('table', 'sap-ds-demo:big_data_demo_ew2.ny_taxi_1k').load()\n",
    "taxi_1k.createOrReplaceTempView('taxi')"
   ]
  },
  {
   "cell_type": "code",
   "execution_count": 27,
   "metadata": {},
   "outputs": [
    {
     "name": "stdout",
     "output_type": "stream",
     "text": [
      "Counting data\n",
      "Data count 1000\n",
      "COUNT: 0:00:00.359642\n",
      "\n",
      "Grouping data\n",
      "GROUP: 0:00:06.197512\n",
      "\n",
      "Describing data\n",
      "Describe: 0:00:04.627968\n",
      "\n",
      "Preparing model data\n",
      "Prep: 0:00:00.965123\n",
      "\n",
      "Fitting Mllib model\n",
      "Fit: 0:00:03.358198\n",
      "\n",
      "Making predicitons with Mllib model\n",
      "Predictions: 0:00:00.091519\n",
      "\n",
      "Evaluating model\n",
      "Calculating RMSE\n",
      "Calculating R2\n",
      "RMSE: 3.54, R2 0.75\n",
      "Evaluation: 0:00:05.756070\n",
      "\n"
     ]
    }
   ],
   "source": [
    "run_speed_test(taxi_1k)"
   ]
  },
  {
   "cell_type": "markdown",
   "metadata": {},
   "source": [
    "# 10K rows"
   ]
  },
  {
   "cell_type": "code",
   "execution_count": null,
   "metadata": {},
   "outputs": [],
   "source": [
    "# Load data from BigQuery.\n",
    "taxi_10k = spark.read.format('bigquery').option('table', 'sap-ds-demo:big_data_demo_ew2.ny_taxi_10k').load()\n",
    "taxi_10k.createOrReplaceTempView('taxi')"
   ]
  },
  {
   "cell_type": "code",
   "execution_count": null,
   "metadata": {},
   "outputs": [],
   "source": [
    "run_speed_test(taxi_10k)"
   ]
  },
  {
   "cell_type": "markdown",
   "metadata": {},
   "source": [
    "100K rows"
   ]
  },
  {
   "cell_type": "code",
   "execution_count": null,
   "metadata": {},
   "outputs": [],
   "source": [
    "# Load data from BigQuery.\n",
    "taxi_100k = spark.read.format('bigquery').option('table', 'sap-ds-demo:big_data_demo_ew2.ny_taxi_100k').load()\n",
    "taxi_100k.createOrReplaceTempView('taxi')"
   ]
  },
  {
   "cell_type": "code",
   "execution_count": null,
   "metadata": {},
   "outputs": [],
   "source": [
    "run_speed_test(taxi_100k)"
   ]
  },
  {
   "cell_type": "markdown",
   "metadata": {},
   "source": [
    "1M rows\n"
   ]
  },
  {
   "cell_type": "code",
   "execution_count": null,
   "metadata": {},
   "outputs": [],
   "source": [
    "# Load data from BigQuery.\n",
    "taxi_1m = spark.read.format('bigquery').option('table', 'sap-ds-demo:big_data_demo_ew2.ny_taxi_1m').load()\n",
    "taxi_1m.createOrReplaceTempView('taxi')"
   ]
  },
  {
   "cell_type": "code",
   "execution_count": null,
   "metadata": {},
   "outputs": [],
   "source": [
    "run_speed_test(taxi_1m)"
   ]
  },
  {
   "cell_type": "markdown",
   "metadata": {},
   "source": [
    "10M rows"
   ]
  },
  {
   "cell_type": "code",
   "execution_count": null,
   "metadata": {},
   "outputs": [],
   "source": [
    "# Load data from BigQuery.\n",
    "taxi_10m = spark.read.format('bigquery').option('table', 'sap-ds-demo:big_data_demo_ew2.ny_taxi_10m').load()\n",
    "taxi_10m.createOrReplaceTempView('taxi')"
   ]
  },
  {
   "cell_type": "code",
   "execution_count": null,
   "metadata": {},
   "outputs": [],
   "source": [
    "run_speed_test(taxi_10m)"
   ]
  },
  {
   "cell_type": "markdown",
   "metadata": {},
   "source": [
    "# 2 primary workers 8 secondary workers \n",
    "\n",
    "98.72 GB memory"
   ]
  },
  {
   "cell_type": "code",
   "execution_count": null,
   "metadata": {},
   "outputs": [],
   "source": [
    "# 1K"
   ]
  },
  {
   "cell_type": "code",
   "execution_count": null,
   "metadata": {},
   "outputs": [],
   "source": [
    "# Load data from BigQuery.\n",
    "taxi_1k = spark.read.format('bigquery').option('table', 'sap-ds-demo:big_data_demo_ew2.ny_taxi_1k').load()\n",
    "taxi_1k.createOrReplaceTempView('taxi')"
   ]
  },
  {
   "cell_type": "code",
   "execution_count": null,
   "metadata": {},
   "outputs": [],
   "source": [
    "run_speed_test(taxi_1k)"
   ]
  },
  {
   "cell_type": "code",
   "execution_count": null,
   "metadata": {},
   "outputs": [],
   "source": [
    "# 10K"
   ]
  },
  {
   "cell_type": "code",
   "execution_count": null,
   "metadata": {},
   "outputs": [],
   "source": [
    "# Load data from BigQuery.\n",
    "taxi_10k = spark.read.format('bigquery').option('table', 'sap-ds-demo:big_data_demo_ew2.ny_taxi_10k').load()\n",
    "taxi_10k.createOrReplaceTempView('taxi')"
   ]
  },
  {
   "cell_type": "code",
   "execution_count": null,
   "metadata": {},
   "outputs": [],
   "source": [
    "run_speed_test(taxi_10k)"
   ]
  },
  {
   "cell_type": "code",
   "execution_count": null,
   "metadata": {},
   "outputs": [],
   "source": [
    "# 100K"
   ]
  },
  {
   "cell_type": "code",
   "execution_count": null,
   "metadata": {},
   "outputs": [],
   "source": [
    "# Load data from BigQuery.\n",
    "taxi_100k = spark.read.format('bigquery').option('table', 'sap-ds-demo:big_data_demo_ew2.ny_taxi_100k').load()\n",
    "taxi_100k.createOrReplaceTempView('taxi')"
   ]
  },
  {
   "cell_type": "code",
   "execution_count": null,
   "metadata": {},
   "outputs": [],
   "source": [
    "run_speed_test(taxi_100k)"
   ]
  },
  {
   "cell_type": "code",
   "execution_count": null,
   "metadata": {},
   "outputs": [],
   "source": [
    "# 1M "
   ]
  },
  {
   "cell_type": "code",
   "execution_count": null,
   "metadata": {},
   "outputs": [],
   "source": [
    "# Load data from BigQuery.\n",
    "taxi_1m = spark.read.format('bigquery').option('table', 'sap-ds-demo:big_data_demo_ew2.ny_taxi_1m').load()\n",
    "taxi_1m.createOrReplaceTempView('taxi')"
   ]
  },
  {
   "cell_type": "code",
   "execution_count": null,
   "metadata": {},
   "outputs": [],
   "source": [
    "run_speed_test(taxi_1m)"
   ]
  },
  {
   "cell_type": "code",
   "execution_count": null,
   "metadata": {},
   "outputs": [],
   "source": [
    "# 10M "
   ]
  },
  {
   "cell_type": "code",
   "execution_count": null,
   "metadata": {},
   "outputs": [],
   "source": [
    "# Load data from BigQuery.\n",
    "taxi_10m = spark.read.format('bigquery').option('table', 'sap-ds-demo:big_data_demo_ew2.ny_taxi_10m').load()\n",
    "taxi_10m.createOrReplaceTempView('taxi')"
   ]
  },
  {
   "cell_type": "code",
   "execution_count": null,
   "metadata": {},
   "outputs": [],
   "source": [
    "run_speed_test(taxi_10m)"
   ]
  },
  {
   "cell_type": "code",
   "execution_count": null,
   "metadata": {},
   "outputs": [],
   "source": [
    "# 100M"
   ]
  },
  {
   "cell_type": "code",
   "execution_count": null,
   "metadata": {},
   "outputs": [],
   "source": [
    "# Load data from BigQuery.\n",
    "taxi_100m = spark.read.format('bigquery').option('table', 'sap-ds-demo:big_data_demo_ew2.ny_taxi_100m').load()\n",
    "taxi_100m.createOrReplaceTempView('taxi')"
   ]
  },
  {
   "cell_type": "code",
   "execution_count": null,
   "metadata": {},
   "outputs": [],
   "source": [
    "run_speed_test(taxi_100m)"
   ]
  },
  {
   "cell_type": "code",
   "execution_count": null,
   "metadata": {},
   "outputs": [],
   "source": [
    "# Load data from HDFS"
   ]
  },
  {
   "cell_type": "code",
   "execution_count": 12,
   "metadata": {},
   "outputs": [
    {
     "name": "stdout",
     "output_type": "stream",
     "text": [
      "+---------+--------------+----+-----+---------+-------+-------+---------------+-------------+-------------------+------------------+------------------+-------------------+------------------+------------+------------+------------------+------------------+------------------+------------------+\n",
      "|      _c0|           _c1| _c2|  _c3|      _c4|    _c5|    _c6|            _c7|          _c8|                _c9|              _c10|              _c11|               _c12|              _c13|        _c14|        _c15|              _c16|              _c17|              _c18|              _c19|\n",
      "+---------+--------------+----+-----+---------+-------+-------+---------------+-------------+-------------------+------------------+------------------+-------------------+------------------+------------+------------+------------------+------------------+------------------+------------------+\n",
      "|vendor_id|journey_length|year|month|dayofweek|pu_hour|do_hour|passenger_count|trip_distance|   pickup_longitude|         rate_code|store_and_fwd_flag|  dropoff_longitude|  dropoff_latitude|payment_type|total_amount|       pu_m_center|       do_m_center|          pu_m_jfk|          do_m_jfk|\n",
      "|        1|            24|2015|    3|        2|      0|      0|              1|         17.3| -73.78961181640625|40.646900177001953|                 N| -73.98516845703125|40.751045227050781|           1|       72.66|15408.126389360095|4780.7910204946647|15408.126389360095|4780.7910204946647|\n",
      "|        1|             5|2015|    2|        5|      0|      0|              2|          1.1|  -73.9757308959961|40.744705200195312|                 N|-73.968338012695312|40.756252288818359|           1|         7.3|3754.1398981288503| 3987.976902488072|3754.1398981288503| 3987.976902488072|\n",
      "|        1|            10|2016|    2|        7|      0|      0|              1|          3.6|                  0|                 0|                 N|-74.009849548339844|40.705558776855469|           1|       17.15|8661585.6362656858|6877.1698896759435|8661585.6362656858|6877.1698896759435|\n",
      "|        1|             7|2015|    6|        4|      0|      0|              1|          4.1|  -73.9747543334961|40.742111206054688|                 N|-74.006172180175781|40.706516265869141|           1|       17.15|3566.2946609106248|6550.7072771535532|3566.2946609106248|6550.7072771535532|\n",
      "|        1|            34|2015|    8|        1|      0|      0|              1|         13.3|-74.004074096679688|40.713142395019531|                 N|-73.876449584960938|  40.8414421081543|           1|        46.8| 6117.242254084561|13280.872906331819| 6117.242254084561|13280.872906331819|\n",
      "|        1|            11|2015|    3|        1|      0|      0|              2|          2.2|-73.974044799804688|40.747184753417969|                 N|-74.004600524902344|40.744712829589844|           1|       13.55| 3752.920753866862|6050.4267769664211| 3752.920753866862|6050.4267769664211|\n",
      "|        1|             8|2015|    8|        5|      0|      0|              1|          0.9|  -73.9820327758789|   40.762451171875|                 N|-73.981010437011719|40.753459930419922|           1|         8.3|5298.4025854406327|   4617.7359190751|5298.4025854406327|   4617.7359190751|\n",
      "|        1|            12|2015|    3|        1|      0|      0|              4|          2.2|-73.979110717773438|40.745101928710938|                 Y|-74.005172729492188|40.729576110839844|           1|        11.8|4032.0737951654364|5893.6752825491812|4032.0737951654364|5893.6752825491812|\n",
      "|        1|             9|2016|    4|        6|      0|      0|              1|          2.2|-73.993858337402344|40.740959167480469|                 N|-73.981117248535156|  40.7628173828125|           1|        11.8|5071.0489976352837|5268.8637594923966|5071.0489976352837|5268.8637594923966|\n",
      "|        1|            14|2015|    8|        7|      0|      0|              3|          1.8|-73.981414794921875|40.741477966308594|                 N|  -73.9871597290039|40.721988677978516|           1|        13.8| 4073.671879079569|4478.7774330015309| 4073.671879079569|4478.7774330015309|\n",
      "|        1|             4|2016|    6|        2|      0|      0|              1|          0.8|-73.969802856445312|40.768814086914062|                 N|-73.982185363769531|40.771263122558594|           1|        8.15|5149.9782546105635| 6005.917546946961|5149.9782546105635| 6005.917546946961|\n",
      "|        1|             6|2016|    4|        6|      0|      0|              1|          0.6| -74.00701904296875|40.735008239746094|                 N|-74.002677917480469|40.742351531982422|           1|        8.15|6067.6242777724419|5829.8642081148164|6067.6242777724419|5829.8642081148164|\n",
      "|        1|            16|2015|    8|        7|      0|      0|              1|          3.9|  -73.9886245727539|40.749031066894531|                 N|-73.975532531738281|40.791477203369141|           1|        30.8|4941.9837229098166|7571.1875247186726|4941.9837229098166|7571.1875247186726|\n",
      "|        1|            10|2015|    8|        6|      0|      1|              2|          2.5|      -74.001953125|40.730472564697266|                 N|-73.972114562988281|40.745643615722656|           1|          13|5621.2441937397925|3527.8141312788284|5621.2441937397925|3527.8141312788284|\n",
      "|        1|            35|2015|   12|        1|      0|      1|              1|          6.1|-73.983802795410156|40.726123809814453|                 N|-73.939445495605469|40.683780670166016|           1|        33.5|4122.2654116672156|5219.2328734032371|4122.2654116672156|5219.2328734032371|\n",
      "|        1|            16|2016|    6|        1|      0|      1|              1|          3.7|   -73.999267578125|   40.728271484375|                 N|-73.974716186523438|40.686435699462891|           1|       18.95|5401.2855953745893|5932.8073277046778|5401.2855953745893|5932.8073277046778|\n",
      "|        1|            15|2015|    2|        7|      0|      1|              1|          1.9|-73.968269348144531|40.755031585693359|                 N| -73.99163818359375|40.748703002929688|           1|       15.95| 3887.962628704247| 5159.794603544914| 3887.962628704247| 5159.794603544914|\n",
      "|        1|            15|2015|    3|        1|      0|      1|              1|          2.8|                  0|                 0|                 N|                  0|                 0|           1|       17.85|8661585.6362656858|8661585.6362656858|8661585.6362656858|8661585.6362656858|\n",
      "|        1|            20|2015|    7|        7|      0|      1|              1|          4.4|-73.955856323242188|40.776210784912109|                 N|-74.000480651855469|40.736492156982422|           1|        19.3|5359.6586841834333|5535.6773972293013|5359.6586841834333|5535.6773972293013|\n",
      "+---------+--------------+----+-----+---------+-------+-------+---------------+-------------+-------------------+------------------+------------------+-------------------+------------------+------------+------------+------------------+------------------+------------------+------------------+\n",
      "only showing top 20 rows\n",
      "\n"
     ]
    }
   ],
   "source": [
    "# Load data from BigQuery.\n",
    "\n",
    "taxi_1m = spark.read.csv('ny_taxi_1m')\n",
    "taxi_1m.show()"
   ]
  },
  {
   "cell_type": "markdown",
   "metadata": {},
   "source": [
    "# Load data locally"
   ]
  },
  {
   "cell_type": "code",
   "execution_count": 16,
   "metadata": {},
   "outputs": [],
   "source": [
    "taxi_1m = spark.read.load('ny_taxi_1m',\n",
    "                    format='com.databricks.spark.csv', \n",
    "                    header='true', \n",
    "                    inferSchema='true').cache()"
   ]
  },
  {
   "cell_type": "code",
   "execution_count": 17,
   "metadata": {},
   "outputs": [
    {
     "name": "stdout",
     "output_type": "stream",
     "text": [
      "+---------+--------------+----+-----+---------+-------+-------+---------------+-------------+------------------+------------------+------------------+------------------+------------------+------------+------------+------------------+------------------+------------------+------------------+\n",
      "|vendor_id|journey_length|year|month|dayofweek|pu_hour|do_hour|passenger_count|trip_distance|  pickup_longitude|         rate_code|store_and_fwd_flag| dropoff_longitude|  dropoff_latitude|payment_type|total_amount|       pu_m_center|       do_m_center|          pu_m_jfk|          do_m_jfk|\n",
      "+---------+--------------+----+-----+---------+-------+-------+---------------+-------------+------------------+------------------+------------------+------------------+------------------+------------+------------+------------------+------------------+------------------+------------------+\n",
      "|        1|            24|2015|    3|        2|      0|      0|              1|         17.3|-73.78961181640625| 40.64690017700195|                 N|-73.98516845703125| 40.75104522705078|           1|       72.66|15408.126389360095| 4780.791020494665|15408.126389360095| 4780.791020494665|\n",
      "|        1|             5|2015|    2|        5|      0|      0|              2|          1.1| -73.9757308959961| 40.74470520019531|                 N|-73.96833801269531| 40.75625228881836|           1|         7.3|3754.1398981288503| 3987.976902488072|3754.1398981288503| 3987.976902488072|\n",
      "|        1|            10|2016|    2|        7|      0|      0|              1|          3.6|               0.0|               0.0|                 N|-74.00984954833984| 40.70555877685547|           1|       17.15| 8661585.636265686|6877.1698896759435| 8661585.636265686|6877.1698896759435|\n",
      "|        1|             7|2015|    6|        4|      0|      0|              1|          4.1| -73.9747543334961| 40.74211120605469|                 N|-74.00617218017578| 40.70651626586914|           1|       17.15|3566.2946609106248| 6550.707277153553|3566.2946609106248| 6550.707277153553|\n",
      "|        1|            34|2015|    8|        1|      0|      0|              1|         13.3|-74.00407409667969| 40.71314239501953|                 N|-73.87644958496094|  40.8414421081543|           1|        46.8| 6117.242254084561|13280.872906331819| 6117.242254084561|13280.872906331819|\n",
      "|        1|            11|2015|    3|        1|      0|      0|              2|          2.2|-73.97404479980469| 40.74718475341797|                 N|-74.00460052490234|40.744712829589844|           1|       13.55| 3752.920753866862| 6050.426776966421| 3752.920753866862| 6050.426776966421|\n",
      "|        1|             8|2015|    8|        5|      0|      0|              1|          0.9| -73.9820327758789|   40.762451171875|                 N|-73.98101043701172| 40.75345993041992|           1|         8.3| 5298.402585440633|   4617.7359190751| 5298.402585440633|   4617.7359190751|\n",
      "|        1|            12|2015|    3|        1|      0|      0|              4|          2.2|-73.97911071777344| 40.74510192871094|                 Y|-74.00517272949219|40.729576110839844|           1|        11.8|4032.0737951654364| 5893.675282549181|4032.0737951654364| 5893.675282549181|\n",
      "|        1|             9|2016|    4|        6|      0|      0|              1|          2.2|-73.99385833740234| 40.74095916748047|                 N|-73.98111724853516|  40.7628173828125|           1|        11.8| 5071.048997635284| 5268.863759492397| 5071.048997635284| 5268.863759492397|\n",
      "|        1|            14|2015|    8|        7|      0|      0|              3|          1.8|-73.98141479492188|40.741477966308594|                 N| -73.9871597290039|40.721988677978516|           1|        13.8| 4073.671879079569| 4478.777433001531| 4073.671879079569| 4478.777433001531|\n",
      "|        1|             4|2016|    6|        2|      0|      0|              1|          0.8|-73.96980285644531| 40.76881408691406|                 N|-73.98218536376953|40.771263122558594|           1|        8.15| 5149.978254610563| 6005.917546946961| 5149.978254610563| 6005.917546946961|\n",
      "|        1|             6|2016|    4|        6|      0|      0|              1|          0.6|-74.00701904296875|40.735008239746094|                 N|-74.00267791748047| 40.74235153198242|           1|        8.15| 6067.624277772442| 5829.864208114816| 6067.624277772442| 5829.864208114816|\n",
      "|        1|            16|2015|    8|        7|      0|      0|              1|          3.9| -73.9886245727539| 40.74903106689453|                 N|-73.97553253173828| 40.79147720336914|           1|        30.8| 4941.983722909817| 7571.187524718673| 4941.983722909817| 7571.187524718673|\n",
      "|        1|            10|2015|    8|        6|      0|      1|              2|          2.5|     -74.001953125|40.730472564697266|                 N|-73.97211456298828|40.745643615722656|           1|        13.0|5621.2441937397925|3527.8141312788284|5621.2441937397925|3527.8141312788284|\n",
      "|        1|            35|2015|   12|        1|      0|      1|              1|          6.1|-73.98380279541016| 40.72612380981445|                 N|-73.93944549560547|40.683780670166016|           1|        33.5| 4122.265411667216| 5219.232873403237| 4122.265411667216| 5219.232873403237|\n",
      "|        1|            16|2016|    6|        1|      0|      1|              1|          3.7|  -73.999267578125|   40.728271484375|                 N|-73.97471618652344| 40.68643569946289|           1|       18.95| 5401.285595374589| 5932.807327704678| 5401.285595374589| 5932.807327704678|\n",
      "|        1|            15|2015|    2|        7|      0|      1|              1|          1.9|-73.96826934814453| 40.75503158569336|                 N|-73.99163818359375| 40.74870300292969|           1|       15.95| 3887.962628704247| 5159.794603544914| 3887.962628704247| 5159.794603544914|\n",
      "|        1|            15|2015|    3|        1|      0|      1|              1|          2.8|               0.0|               0.0|                 N|               0.0|               0.0|           1|       17.85| 8661585.636265686| 8661585.636265686| 8661585.636265686| 8661585.636265686|\n",
      "|        1|            20|2015|    7|        7|      0|      1|              1|          4.4|-73.95585632324219| 40.77621078491211|                 N|-74.00048065185547| 40.73649215698242|           1|        19.3| 5359.658684183433| 5535.677397229301| 5359.658684183433| 5535.677397229301|\n",
      "|        1|            31|2015|    4|        7|      0|      1|              4|          5.4|-74.00706481933594|40.739418029785156|                 N|-73.95785522460938| 40.72198486328125|           1|        27.3| 6130.282805670315|2133.3031751541125| 6130.282805670315|2133.3031751541125|\n",
      "+---------+--------------+----+-----+---------+-------+-------+---------------+-------------+------------------+------------------+------------------+------------------+------------------+------------+------------+------------------+------------------+------------------+------------------+\n",
      "only showing top 20 rows\n",
      "\n"
     ]
    }
   ],
   "source": [
    "taxi_1m.show()"
   ]
  },
  {
   "cell_type": "code",
   "execution_count": 18,
   "metadata": {},
   "outputs": [
    {
     "name": "stdout",
     "output_type": "stream",
     "text": [
      "Counting data\n",
      "Data count 1000000\n",
      "COUNT: 0:00:07.438796\n",
      "\n",
      "Grouping data\n",
      "GROUP: 0:00:02.772813\n",
      "\n",
      "Describing data\n",
      "Describe: 0:00:08.969309\n",
      "\n",
      "Preparing model data\n",
      "Prep: 0:00:01.381856\n",
      "\n",
      "Fitting Mllib model\n",
      "Fit: 0:01:00.381875\n",
      "\n",
      "Making predicitons with Mllib model\n",
      "Predictions: 0:00:00.185529\n",
      "\n",
      "Evaluating model\n",
      "Calculating RMSE\n",
      "Calculating R2\n",
      "RMSE: 5.70, R2 0.77\n",
      "Evaluation: 0:00:27.620122\n",
      "\n"
     ]
    }
   ],
   "source": [
    "run_speed_test(taxi_1m)"
   ]
  },
  {
   "cell_type": "code",
   "execution_count": 19,
   "metadata": {},
   "outputs": [],
   "source": [
    "# 10 million rows local"
   ]
  },
  {
   "cell_type": "code",
   "execution_count": 22,
   "metadata": {},
   "outputs": [],
   "source": [
    "taxi_10m = spark.read.load('ny_taxi_10m',\n",
    "                    format='com.databricks.spark.csv', \n",
    "                    header='true', \n",
    "                    inferSchema='true').cache()"
   ]
  },
  {
   "cell_type": "code",
   "execution_count": 23,
   "metadata": {},
   "outputs": [
    {
     "name": "stdout",
     "output_type": "stream",
     "text": [
      "Counting data\n",
      "Data count 10000000\n",
      "COUNT: 0:00:19.074863\n",
      "\n",
      "Grouping data\n",
      "GROUP: 0:00:02.437312\n",
      "\n",
      "Describing data\n",
      "Describe: 0:00:34.151717\n",
      "\n",
      "Preparing model data\n",
      "Prep: 0:00:01.307285\n",
      "\n",
      "Fitting Mllib model\n",
      "Fit: 0:03:25.537359\n",
      "\n",
      "Making predicitons with Mllib model\n",
      "Predictions: 0:00:00.036590\n",
      "\n",
      "Evaluating model\n",
      "Calculating RMSE\n",
      "Calculating R2\n",
      "RMSE: 5.50, R2 0.77\n",
      "Evaluation: 0:01:35.566430\n",
      "\n"
     ]
    }
   ],
   "source": [
    "run_speed_test(taxi_10m)"
   ]
  },
  {
   "cell_type": "markdown",
   "metadata": {},
   "source": [
    "# GCS storage"
   ]
  },
  {
   "cell_type": "markdown",
   "metadata": {},
   "source": [
    "# 1M"
   ]
  },
  {
   "cell_type": "code",
   "execution_count": 34,
   "metadata": {},
   "outputs": [],
   "source": [
    "taxi_1m = spark.read.load('gs://pyspark_temp_20201006_eu/ny_taxi_1m',\n",
    "                    format='com.databricks.spark.csv', \n",
    "                    header='true', \n",
    "                    inferSchema='true').cache()"
   ]
  },
  {
   "cell_type": "code",
   "execution_count": 35,
   "metadata": {},
   "outputs": [
    {
     "name": "stdout",
     "output_type": "stream",
     "text": [
      "Counting data\n",
      "Data count 1000000\n",
      "COUNT: 0:00:00.081962\n",
      "\n",
      "Grouping data\n",
      "GROUP: 0:00:00.415750\n",
      "\n",
      "Describing data\n",
      "Describe: 0:00:04.898204\n",
      "\n",
      "Preparing model data\n",
      "Prep: 0:00:00.306620\n",
      "\n",
      "Fitting Mllib model\n",
      "Fit: 0:00:31.139412\n",
      "\n",
      "Making predicitons with Mllib model\n",
      "Predictions: 0:00:00.023607\n",
      "\n",
      "Evaluating model\n",
      "Calculating RMSE\n",
      "Calculating R2\n",
      "RMSE: 5.17, R2 0.81\n",
      "Evaluation: 0:00:13.660784\n",
      "\n"
     ]
    }
   ],
   "source": [
    "run_speed_test(taxi_1m)"
   ]
  },
  {
   "cell_type": "code",
   "execution_count": 30,
   "metadata": {},
   "outputs": [
    {
     "name": "stdout",
     "output_type": "stream",
     "text": [
      "Counting data\n",
      "Data count 1000000\n",
      "COUNT: 0:00:00.101730\n",
      "\n",
      "Grouping data\n",
      "GROUP: 0:00:00.721013\n",
      "\n",
      "Describing data\n",
      "Describe: 0:00:05.284211\n",
      "\n",
      "Preparing model data\n",
      "Prep: 0:00:00.110020\n",
      "\n",
      "Fitting Mllib model\n",
      "Fit: 0:00:35.709474\n",
      "\n",
      "Making predicitons with Mllib model\n",
      "Predictions: 0:00:00.061698\n",
      "\n",
      "Evaluating model\n",
      "Calculating RMSE\n",
      "Calculating R2\n",
      "RMSE: 5.17, R2 0.81\n",
      "Evaluation: 0:00:14.225229\n",
      "\n"
     ]
    }
   ],
   "source": [
    "run_speed_test(taxi_1m)"
   ]
  },
  {
   "cell_type": "markdown",
   "metadata": {},
   "source": [
    "# 10m\n",
    "\n",
    "10 million row file is the same data which was uploaded to HDFS. This file took the 3 files exported from BQ and manually combined using bash cat commands."
   ]
  },
  {
   "cell_type": "code",
   "execution_count": 32,
   "metadata": {},
   "outputs": [],
   "source": [
    "taxi_10m = spark.read.load('gs://pyspark_temp_20201006_eu/ny_taxi_10m',\n",
    "                    format='com.databricks.spark.csv', \n",
    "                    header='true', \n",
    "                    inferSchema='true').cache()"
   ]
  },
  {
   "cell_type": "code",
   "execution_count": 33,
   "metadata": {},
   "outputs": [
    {
     "name": "stdout",
     "output_type": "stream",
     "text": [
      "Counting data\n",
      "Data count 10000000\n",
      "COUNT: 0:00:14.354154\n",
      "\n",
      "Grouping data\n",
      "GROUP: 0:00:02.460545\n",
      "\n",
      "Describing data\n",
      "Describe: 0:00:19.528686\n",
      "\n",
      "Preparing model data\n",
      "Prep: 0:00:01.391287\n",
      "\n",
      "Fitting Mllib model\n",
      "Fit: 0:02:24.247229\n",
      "\n",
      "Making predicitons with Mllib model\n",
      "Predictions: 0:00:00.077017\n",
      "\n",
      "Evaluating model\n",
      "Calculating RMSE\n",
      "Calculating R2\n",
      "RMSE: 5.71, R2 0.75\n",
      "Evaluation: 0:01:06.466939\n",
      "\n"
     ]
    }
   ],
   "source": [
    "run_speed_test(taxi_10m)"
   ]
  },
  {
   "cell_type": "markdown",
   "metadata": {},
   "source": [
    "# 10 million multifile"
   ]
  },
  {
   "cell_type": "code",
   "execution_count": 36,
   "metadata": {},
   "outputs": [],
   "source": [
    "taxi_10m = spark.read.load('gs://pyspark_temp_20201006_eu/ny_taxi_10m000*',\n",
    "                    format='com.databricks.spark.csv', \n",
    "                    header='true', \n",
    "                    inferSchema='true').cache()"
   ]
  },
  {
   "cell_type": "code",
   "execution_count": 37,
   "metadata": {},
   "outputs": [
    {
     "name": "stdout",
     "output_type": "stream",
     "text": [
      "Counting data\n",
      "Data count 10000000\n",
      "COUNT: 0:00:09.581532\n",
      "\n",
      "Grouping data\n",
      "GROUP: 0:00:00.748562\n",
      "\n",
      "Describing data\n",
      "Describe: 0:00:19.096682\n",
      "\n",
      "Preparing model data\n",
      "Prep: 0:00:00.291812\n",
      "\n",
      "Fitting Mllib model\n",
      "Fit: 0:02:20.994508\n",
      "\n",
      "Making predicitons with Mllib model\n",
      "Predictions: 0:00:00.030538\n",
      "\n",
      "Evaluating model\n",
      "Calculating RMSE\n",
      "Calculating R2\n",
      "RMSE: 5.27, R2 0.78\n",
      "Evaluation: 0:01:04.689766\n",
      "\n"
     ]
    }
   ],
   "source": [
    "run_speed_test(taxi_10m)"
   ]
  },
  {
   "cell_type": "markdown",
   "metadata": {},
   "source": [
    "# 100 million multifile\n",
    "\n",
    "2 pw, 5 secondary"
   ]
  },
  {
   "cell_type": "code",
   "execution_count": 41,
   "metadata": {},
   "outputs": [],
   "source": [
    "taxi_100m = spark.read.load('gs://pyspark_temp_20201006_eu/ny_taxi_100m_000*',\n",
    "                    format='com.databricks.spark.csv', \n",
    "                    header='true', \n",
    "                    inferSchema='true').cache()"
   ]
  },
  {
   "cell_type": "code",
   "execution_count": null,
   "metadata": {},
   "outputs": [
    {
     "name": "stdout",
     "output_type": "stream",
     "text": [
      "Counting data\n",
      "Data count 100000000\n",
      "COUNT: 0:01:15.780924\n",
      "\n",
      "Grouping data\n",
      "GROUP: 0:00:01.561427\n",
      "\n",
      "Describing data\n",
      "Describe: 0:02:33.502025\n",
      "\n",
      "Preparing model data\n",
      "Prep: 0:00:00.382757\n",
      "\n",
      "Fitting Mllib model\n",
      "Fit: 0:23:38.931776\n",
      "\n",
      "Making predicitons with Mllib model\n",
      "Predictions: 0:00:00.122678\n",
      "\n",
      "Evaluating model\n",
      "Calculating RMSE\n",
      "Calculating R2\n",
      "RMSE: 4801.70, R2 0.00\n",
      "Evaluation: 0:10:32.800169\n",
      "\n"
     ]
    }
   ],
   "source": [
    "run_speed_test(taxi_100m)"
   ]
  },
  {
   "cell_type": "code",
   "execution_count": null,
   "metadata": {},
   "outputs": [],
   "source": []
  }
 ],
 "metadata": {
  "kernelspec": {
   "display_name": "Python 3",
   "language": "python",
   "name": "python3"
  },
  "language_info": {
   "codemirror_mode": {
    "name": "ipython",
    "version": 3
   },
   "file_extension": ".py",
   "mimetype": "text/x-python",
   "name": "python",
   "nbconvert_exporter": "python",
   "pygments_lexer": "ipython3",
   "version": "3.6.12"
  }
 },
 "nbformat": 4,
 "nbformat_minor": 2
}
